{
  "cells": [
    {
      "cell_type": "markdown",
      "metadata": {
        "id": "view-in-github",
        "colab_type": "text"
      },
      "source": [
        "<a href=\"https://colab.research.google.com/github/Word-Wizards/Neural-NLP/blob/Word2Vac/NLP_30sep.ipynb\" target=\"_parent\"><img src=\"https://colab.research.google.com/assets/colab-badge.svg\" alt=\"Open In Colab\"/></a>"
      ]
    },
    {
      "cell_type": "code",
      "execution_count": null,
      "metadata": {
        "id": "omC1WA884X5W",
        "tags": []
      },
      "outputs": [],
      "source": [
        "import pandas as pd\n",
        "import os\n",
        "import random\n",
        "import tensorflow as tf"
      ]
    },
    {
      "cell_type": "code",
      "execution_count": null,
      "metadata": {
        "id": "gtKATjPXd0hJ",
        "tags": []
      },
      "outputs": [],
      "source": [
        "df = pd.read_json('H:/M-tech(ICT)/M-tech(ICT) 3 SEM/Neural NLP/Assignment 1/new/dataset.gz', lines=True, compression='gzip')"
      ]
    },
    {
      "cell_type": "code",
      "execution_count": null,
      "metadata": {
        "colab": {
          "base_uri": "https://localhost:8080/",
          "height": 293
        },
        "id": "Kron_5W7d_NP",
        "outputId": "086098bd-b98e-49e6-f8d3-ea2b042b1c27",
        "tags": []
      },
      "outputs": [
        {
          "data": {
            "text/html": [
              "<div>\n",
              "<style scoped>\n",
              "    .dataframe tbody tr th:only-of-type {\n",
              "        vertical-align: middle;\n",
              "    }\n",
              "\n",
              "    .dataframe tbody tr th {\n",
              "        vertical-align: top;\n",
              "    }\n",
              "\n",
              "    .dataframe thead th {\n",
              "        text-align: right;\n",
              "    }\n",
              "</style>\n",
              "<table border=\"1\" class=\"dataframe\">\n",
              "  <thead>\n",
              "    <tr style=\"text-align: right;\">\n",
              "      <th></th>\n",
              "      <th>id</th>\n",
              "      <th>source</th>\n",
              "      <th>version</th>\n",
              "      <th>added</th>\n",
              "      <th>created</th>\n",
              "      <th>text</th>\n",
              "    </tr>\n",
              "  </thead>\n",
              "  <tbody>\n",
              "    <tr>\n",
              "      <th>0</th>\n",
              "      <td>254721023</td>\n",
              "      <td>s2ag/valid</td>\n",
              "      <td>v1</td>\n",
              "      <td>2022-12-16T16:07:05.559Z</td>\n",
              "      <td>2022-12-14T00:00:00.000Z</td>\n",
              "      <td>Investigation Some Characteristics of Biocompo...</td>\n",
              "    </tr>\n",
              "    <tr>\n",
              "      <th>1</th>\n",
              "      <td>254200673</td>\n",
              "      <td>s2ag/valid</td>\n",
              "      <td>v1</td>\n",
              "      <td>2022-12-04T16:21:43.441Z</td>\n",
              "      <td>2022-12-02T00:00:00.000Z</td>\n",
              "      <td>Modelling Techniques for Conjunctive Water Man...</td>\n",
              "    </tr>\n",
              "    <tr>\n",
              "      <th>2</th>\n",
              "      <td>252643161</td>\n",
              "      <td>s2ag/valid</td>\n",
              "      <td>v1</td>\n",
              "      <td>2022-10-01T15:18:53.788Z</td>\n",
              "      <td>2022-12-01T00:00:00.000Z</td>\n",
              "      <td>Complete Targets Coverage in Energy Harvesting...</td>\n",
              "    </tr>\n",
              "    <tr>\n",
              "      <th>3</th>\n",
              "      <td>244852373</td>\n",
              "      <td>s2ag/valid</td>\n",
              "      <td>v1</td>\n",
              "      <td>2021-12-04T16:21:39.980Z</td>\n",
              "      <td>2022-12-01T00:00:00.000Z</td>\n",
              "      <td>Nonorthogonal Multiple Access Enabled Two-Way ...</td>\n",
              "    </tr>\n",
              "    <tr>\n",
              "      <th>4</th>\n",
              "      <td>254774363</td>\n",
              "      <td>s2ag/valid</td>\n",
              "      <td>v1</td>\n",
              "      <td>2022-12-17T16:19:10.635Z</td>\n",
              "      <td>2022-12-14T00:00:00.000Z</td>\n",
              "      <td>106 A CASE OF COMPLETE ATRIOVENTRICULAR BLOCK ...</td>\n",
              "    </tr>\n",
              "  </tbody>\n",
              "</table>\n",
              "</div>"
            ],
            "text/plain": [
              "          id      source version                     added  \\\n",
              "0  254721023  s2ag/valid      v1  2022-12-16T16:07:05.559Z   \n",
              "1  254200673  s2ag/valid      v1  2022-12-04T16:21:43.441Z   \n",
              "2  252643161  s2ag/valid      v1  2022-10-01T15:18:53.788Z   \n",
              "3  244852373  s2ag/valid      v1  2021-12-04T16:21:39.980Z   \n",
              "4  254774363  s2ag/valid      v1  2022-12-17T16:19:10.635Z   \n",
              "\n",
              "                    created                                               text  \n",
              "0  2022-12-14T00:00:00.000Z  Investigation Some Characteristics of Biocompo...  \n",
              "1  2022-12-02T00:00:00.000Z  Modelling Techniques for Conjunctive Water Man...  \n",
              "2  2022-12-01T00:00:00.000Z  Complete Targets Coverage in Energy Harvesting...  \n",
              "3  2022-12-01T00:00:00.000Z  Nonorthogonal Multiple Access Enabled Two-Way ...  \n",
              "4  2022-12-14T00:00:00.000Z  106 A CASE OF COMPLETE ATRIOVENTRICULAR BLOCK ...  "
            ]
          },
          "execution_count": 4,
          "metadata": {},
          "output_type": "execute_result"
        }
      ],
      "source": [
        "df.head()"
      ]
    },
    {
      "cell_type": "code",
      "execution_count": null,
      "metadata": {
        "colab": {
          "base_uri": "https://localhost:8080/"
        },
        "id": "7BlNo6BsPl1z",
        "outputId": "af627d17-5801-43eb-a5ea-8c56d94a826f",
        "tags": []
      },
      "outputs": [
        {
          "data": {
            "text/plain": [
              "667368"
            ]
          },
          "execution_count": 5,
          "metadata": {},
          "output_type": "execute_result"
        }
      ],
      "source": [
        "df.size"
      ]
    },
    {
      "cell_type": "code",
      "execution_count": null,
      "metadata": {
        "id": "GWBZdvvGGS9-",
        "tags": []
      },
      "outputs": [],
      "source": [
        "df_train=df[:3000]"
      ]
    },
    {
      "cell_type": "code",
      "execution_count": null,
      "metadata": {
        "colab": {
          "base_uri": "https://localhost:8080/"
        },
        "id": "j1S6Yb98Ga7-",
        "outputId": "37998e5d-2e21-449c-ed47-91487c7951fc",
        "tags": []
      },
      "outputs": [
        {
          "data": {
            "text/plain": [
              "(3000, 6)"
            ]
          },
          "execution_count": 7,
          "metadata": {},
          "output_type": "execute_result"
        }
      ],
      "source": [
        "df_train.shape"
      ]
    },
    {
      "cell_type": "code",
      "execution_count": null,
      "metadata": {
        "colab": {
          "base_uri": "https://localhost:8080/",
          "height": 597
        },
        "id": "vo4sBG_Kb_SE",
        "outputId": "462ad2fc-3ef8-4335-f3d0-0ed838e17b90",
        "tags": []
      },
      "outputs": [
        {
          "data": {
            "text/html": [
              "<div>\n",
              "<style scoped>\n",
              "    .dataframe tbody tr th:only-of-type {\n",
              "        vertical-align: middle;\n",
              "    }\n",
              "\n",
              "    .dataframe tbody tr th {\n",
              "        vertical-align: top;\n",
              "    }\n",
              "\n",
              "    .dataframe thead th {\n",
              "        text-align: right;\n",
              "    }\n",
              "</style>\n",
              "<table border=\"1\" class=\"dataframe\">\n",
              "  <thead>\n",
              "    <tr style=\"text-align: right;\">\n",
              "      <th></th>\n",
              "      <th>id</th>\n",
              "      <th>source</th>\n",
              "      <th>version</th>\n",
              "      <th>added</th>\n",
              "      <th>created</th>\n",
              "      <th>text</th>\n",
              "    </tr>\n",
              "  </thead>\n",
              "  <tbody>\n",
              "    <tr>\n",
              "      <th>0</th>\n",
              "      <td>254721023</td>\n",
              "      <td>s2ag/valid</td>\n",
              "      <td>v1</td>\n",
              "      <td>2022-12-16T16:07:05.559Z</td>\n",
              "      <td>2022-12-14T00:00:00.000Z</td>\n",
              "      <td>Investigation Some Characteristics of Biocompo...</td>\n",
              "    </tr>\n",
              "    <tr>\n",
              "      <th>1</th>\n",
              "      <td>254200673</td>\n",
              "      <td>s2ag/valid</td>\n",
              "      <td>v1</td>\n",
              "      <td>2022-12-04T16:21:43.441Z</td>\n",
              "      <td>2022-12-02T00:00:00.000Z</td>\n",
              "      <td>Modelling Techniques for Conjunctive Water Man...</td>\n",
              "    </tr>\n",
              "    <tr>\n",
              "      <th>2</th>\n",
              "      <td>252643161</td>\n",
              "      <td>s2ag/valid</td>\n",
              "      <td>v1</td>\n",
              "      <td>2022-10-01T15:18:53.788Z</td>\n",
              "      <td>2022-12-01T00:00:00.000Z</td>\n",
              "      <td>Complete Targets Coverage in Energy Harvesting...</td>\n",
              "    </tr>\n",
              "    <tr>\n",
              "      <th>3</th>\n",
              "      <td>244852373</td>\n",
              "      <td>s2ag/valid</td>\n",
              "      <td>v1</td>\n",
              "      <td>2021-12-04T16:21:39.980Z</td>\n",
              "      <td>2022-12-01T00:00:00.000Z</td>\n",
              "      <td>Nonorthogonal Multiple Access Enabled Two-Way ...</td>\n",
              "    </tr>\n",
              "    <tr>\n",
              "      <th>4</th>\n",
              "      <td>254774363</td>\n",
              "      <td>s2ag/valid</td>\n",
              "      <td>v1</td>\n",
              "      <td>2022-12-17T16:19:10.635Z</td>\n",
              "      <td>2022-12-14T00:00:00.000Z</td>\n",
              "      <td>106 A CASE OF COMPLETE ATRIOVENTRICULAR BLOCK ...</td>\n",
              "    </tr>\n",
              "    <tr>\n",
              "      <th>...</th>\n",
              "      <td>...</td>\n",
              "      <td>...</td>\n",
              "      <td>...</td>\n",
              "      <td>...</td>\n",
              "      <td>...</td>\n",
              "      <td>...</td>\n",
              "    </tr>\n",
              "    <tr>\n",
              "      <th>2995</th>\n",
              "      <td>254443613</td>\n",
              "      <td>s2ag/valid</td>\n",
              "      <td>v1</td>\n",
              "      <td>2022-12-09T16:17:15.100Z</td>\n",
              "      <td>2022-12-06T00:00:00.000Z</td>\n",
              "      <td>Photovoltaic Models’ Parameter Extraction Usin...</td>\n",
              "    </tr>\n",
              "    <tr>\n",
              "      <th>2996</th>\n",
              "      <td>250026872</td>\n",
              "      <td>s2ag/valid</td>\n",
              "      <td>v1</td>\n",
              "      <td>2022-06-26T15:15:06.464Z</td>\n",
              "      <td>2022-12-01T00:00:00.000Z</td>\n",
              "      <td>Optical Inline-Sagnac Current Sensor, Part II:...</td>\n",
              "    </tr>\n",
              "    <tr>\n",
              "      <th>2997</th>\n",
              "      <td>254712765</td>\n",
              "      <td>s2ag/valid</td>\n",
              "      <td>v1</td>\n",
              "      <td>2022-12-16T16:19:29.925Z</td>\n",
              "      <td>2022-12-13T00:00:00.000Z</td>\n",
              "      <td>Trajectories of ENDS and cigarette use among d...</td>\n",
              "    </tr>\n",
              "    <tr>\n",
              "      <th>2998</th>\n",
              "      <td>254330861</td>\n",
              "      <td>s2ag/valid</td>\n",
              "      <td>v1</td>\n",
              "      <td>2022-12-07T20:07:48.011Z</td>\n",
              "      <td>2022-12-07T00:00:00.000Z</td>\n",
              "      <td>Research on UECR air pollutant propagation mod...</td>\n",
              "    </tr>\n",
              "    <tr>\n",
              "      <th>2999</th>\n",
              "      <td>254906011</td>\n",
              "      <td>s2ag/valid</td>\n",
              "      <td>v1</td>\n",
              "      <td>2022-12-21T16:08:34.446Z</td>\n",
              "      <td>2023-01-01T00:00:00.000Z</td>\n",
              "      <td>The role of plasma angiotensin-converting enzy...</td>\n",
              "    </tr>\n",
              "  </tbody>\n",
              "</table>\n",
              "<p>3000 rows × 6 columns</p>\n",
              "</div>"
            ],
            "text/plain": [
              "             id      source version                     added  \\\n",
              "0     254721023  s2ag/valid      v1  2022-12-16T16:07:05.559Z   \n",
              "1     254200673  s2ag/valid      v1  2022-12-04T16:21:43.441Z   \n",
              "2     252643161  s2ag/valid      v1  2022-10-01T15:18:53.788Z   \n",
              "3     244852373  s2ag/valid      v1  2021-12-04T16:21:39.980Z   \n",
              "4     254774363  s2ag/valid      v1  2022-12-17T16:19:10.635Z   \n",
              "...         ...         ...     ...                       ...   \n",
              "2995  254443613  s2ag/valid      v1  2022-12-09T16:17:15.100Z   \n",
              "2996  250026872  s2ag/valid      v1  2022-06-26T15:15:06.464Z   \n",
              "2997  254712765  s2ag/valid      v1  2022-12-16T16:19:29.925Z   \n",
              "2998  254330861  s2ag/valid      v1  2022-12-07T20:07:48.011Z   \n",
              "2999  254906011  s2ag/valid      v1  2022-12-21T16:08:34.446Z   \n",
              "\n",
              "                       created  \\\n",
              "0     2022-12-14T00:00:00.000Z   \n",
              "1     2022-12-02T00:00:00.000Z   \n",
              "2     2022-12-01T00:00:00.000Z   \n",
              "3     2022-12-01T00:00:00.000Z   \n",
              "4     2022-12-14T00:00:00.000Z   \n",
              "...                        ...   \n",
              "2995  2022-12-06T00:00:00.000Z   \n",
              "2996  2022-12-01T00:00:00.000Z   \n",
              "2997  2022-12-13T00:00:00.000Z   \n",
              "2998  2022-12-07T00:00:00.000Z   \n",
              "2999  2023-01-01T00:00:00.000Z   \n",
              "\n",
              "                                                   text  \n",
              "0     Investigation Some Characteristics of Biocompo...  \n",
              "1     Modelling Techniques for Conjunctive Water Man...  \n",
              "2     Complete Targets Coverage in Energy Harvesting...  \n",
              "3     Nonorthogonal Multiple Access Enabled Two-Way ...  \n",
              "4     106 A CASE OF COMPLETE ATRIOVENTRICULAR BLOCK ...  \n",
              "...                                                 ...  \n",
              "2995  Photovoltaic Models’ Parameter Extraction Usin...  \n",
              "2996  Optical Inline-Sagnac Current Sensor, Part II:...  \n",
              "2997  Trajectories of ENDS and cigarette use among d...  \n",
              "2998  Research on UECR air pollutant propagation mod...  \n",
              "2999  The role of plasma angiotensin-converting enzy...  \n",
              "\n",
              "[3000 rows x 6 columns]"
            ]
          },
          "execution_count": 8,
          "metadata": {},
          "output_type": "execute_result"
        }
      ],
      "source": [
        "df_train"
      ]
    },
    {
      "cell_type": "code",
      "execution_count": null,
      "metadata": {
        "id": "OQvaUvWOGe1g",
        "tags": []
      },
      "outputs": [],
      "source": [
        "df_test=df[3000:4000]"
      ]
    },
    {
      "cell_type": "code",
      "execution_count": null,
      "metadata": {
        "colab": {
          "base_uri": "https://localhost:8080/"
        },
        "id": "kD-dbyOaG2jw",
        "outputId": "d8bde3b5-bf66-4538-f4bc-4383b7a84017",
        "tags": []
      },
      "outputs": [
        {
          "data": {
            "text/plain": [
              "(1000, 6)"
            ]
          },
          "execution_count": 10,
          "metadata": {},
          "output_type": "execute_result"
        }
      ],
      "source": [
        "df_test.shape"
      ]
    },
    {
      "cell_type": "code",
      "execution_count": null,
      "metadata": {
        "colab": {
          "base_uri": "https://localhost:8080/",
          "height": 597
        },
        "id": "JJEBiDuDcJqX",
        "outputId": "255d02d6-8a1e-41bd-df90-1c8b1b9e4133",
        "tags": []
      },
      "outputs": [
        {
          "data": {
            "text/html": [
              "<div>\n",
              "<style scoped>\n",
              "    .dataframe tbody tr th:only-of-type {\n",
              "        vertical-align: middle;\n",
              "    }\n",
              "\n",
              "    .dataframe tbody tr th {\n",
              "        vertical-align: top;\n",
              "    }\n",
              "\n",
              "    .dataframe thead th {\n",
              "        text-align: right;\n",
              "    }\n",
              "</style>\n",
              "<table border=\"1\" class=\"dataframe\">\n",
              "  <thead>\n",
              "    <tr style=\"text-align: right;\">\n",
              "      <th></th>\n",
              "      <th>id</th>\n",
              "      <th>source</th>\n",
              "      <th>version</th>\n",
              "      <th>added</th>\n",
              "      <th>created</th>\n",
              "      <th>text</th>\n",
              "    </tr>\n",
              "  </thead>\n",
              "  <tbody>\n",
              "    <tr>\n",
              "      <th>3000</th>\n",
              "      <td>254917015</td>\n",
              "      <td>s2ag/valid</td>\n",
              "      <td>v1</td>\n",
              "      <td>2022-12-21T16:20:47.730Z</td>\n",
              "      <td>2022-12-15T00:00:00.000Z</td>\n",
              "      <td>Geochemical Signatures of Felsic Volcanic Rock...</td>\n",
              "    </tr>\n",
              "    <tr>\n",
              "      <th>3001</th>\n",
              "      <td>254626571</td>\n",
              "      <td>s2ag/valid</td>\n",
              "      <td>v1</td>\n",
              "      <td>2022-12-14T16:05:57.440Z</td>\n",
              "      <td>2022-12-12T00:00:00.000Z</td>\n",
              "      <td>‘Mixed Blood’ and Aesthetic Evolution in China...</td>\n",
              "    </tr>\n",
              "    <tr>\n",
              "      <th>3002</th>\n",
              "      <td>255322121</td>\n",
              "      <td>s2ag/valid</td>\n",
              "      <td>v1</td>\n",
              "      <td>2023-01-01T16:21:07.339Z</td>\n",
              "      <td>2022-12-30T00:00:00.000Z</td>\n",
              "      <td>Applying universal design principles to improv...</td>\n",
              "    </tr>\n",
              "    <tr>\n",
              "      <th>3003</th>\n",
              "      <td>254558718</td>\n",
              "      <td>s2ag/valid</td>\n",
              "      <td>v1</td>\n",
              "      <td>2022-12-12T16:07:32.557Z</td>\n",
              "      <td>2022-12-09T00:00:00.000Z</td>\n",
              "      <td>Social Exclusion of Women of Civil Victims Of ...</td>\n",
              "    </tr>\n",
              "    <tr>\n",
              "      <th>3004</th>\n",
              "      <td>254903501</td>\n",
              "      <td>s2ag/valid</td>\n",
              "      <td>v1</td>\n",
              "      <td>2022-12-21T16:18:40.402Z</td>\n",
              "      <td>2022-12-19T00:00:00.000Z</td>\n",
              "      <td>A progressive change in the virulence spectrum...</td>\n",
              "    </tr>\n",
              "    <tr>\n",
              "      <th>...</th>\n",
              "      <td>...</td>\n",
              "      <td>...</td>\n",
              "      <td>...</td>\n",
              "      <td>...</td>\n",
              "      <td>...</td>\n",
              "      <td>...</td>\n",
              "    </tr>\n",
              "    <tr>\n",
              "      <th>3995</th>\n",
              "      <td>254881867</td>\n",
              "      <td>s2ag/valid</td>\n",
              "      <td>v1</td>\n",
              "      <td>2022-12-21T14:09:55.770Z</td>\n",
              "      <td>2022-12-01T00:00:00.000Z</td>\n",
              "      <td>Predicting Conversions from Normal to MCI and ...</td>\n",
              "    </tr>\n",
              "    <tr>\n",
              "      <th>3996</th>\n",
              "      <td>255087471</td>\n",
              "      <td>s2ag/valid</td>\n",
              "      <td>v1</td>\n",
              "      <td>2022-12-25T16:14:18.616Z</td>\n",
              "      <td>2022-12-22T00:00:00.000Z</td>\n",
              "      <td>Three-Dimensional Division of Visible Light Co...</td>\n",
              "    </tr>\n",
              "    <tr>\n",
              "      <th>3997</th>\n",
              "      <td>254918823</td>\n",
              "      <td>s2ag/valid</td>\n",
              "      <td>v1</td>\n",
              "      <td>2022-12-21T16:07:01.402Z</td>\n",
              "      <td>2022-12-18T00:00:00.000Z</td>\n",
              "      <td>Synthesis and Characterization of Nanoformulat...</td>\n",
              "    </tr>\n",
              "    <tr>\n",
              "      <th>3998</th>\n",
              "      <td>254354264</td>\n",
              "      <td>s2ag/valid</td>\n",
              "      <td>v1</td>\n",
              "      <td>2022-12-07T18:08:46.764Z</td>\n",
              "      <td>2022-12-01T00:00:00.000Z</td>\n",
              "      <td>Curcumin Attenuates Lipopolysaccharide-Induced...</td>\n",
              "    </tr>\n",
              "    <tr>\n",
              "      <th>3999</th>\n",
              "      <td>254582552</td>\n",
              "      <td>s2ag/valid</td>\n",
              "      <td>v1</td>\n",
              "      <td>2022-12-13T16:03:47.617Z</td>\n",
              "      <td>2023-01-01T00:00:00.000Z</td>\n",
              "      <td>A new hybrid method for mutual coupling minimi...</td>\n",
              "    </tr>\n",
              "  </tbody>\n",
              "</table>\n",
              "<p>1000 rows × 6 columns</p>\n",
              "</div>"
            ],
            "text/plain": [
              "             id      source version                     added  \\\n",
              "3000  254917015  s2ag/valid      v1  2022-12-21T16:20:47.730Z   \n",
              "3001  254626571  s2ag/valid      v1  2022-12-14T16:05:57.440Z   \n",
              "3002  255322121  s2ag/valid      v1  2023-01-01T16:21:07.339Z   \n",
              "3003  254558718  s2ag/valid      v1  2022-12-12T16:07:32.557Z   \n",
              "3004  254903501  s2ag/valid      v1  2022-12-21T16:18:40.402Z   \n",
              "...         ...         ...     ...                       ...   \n",
              "3995  254881867  s2ag/valid      v1  2022-12-21T14:09:55.770Z   \n",
              "3996  255087471  s2ag/valid      v1  2022-12-25T16:14:18.616Z   \n",
              "3997  254918823  s2ag/valid      v1  2022-12-21T16:07:01.402Z   \n",
              "3998  254354264  s2ag/valid      v1  2022-12-07T18:08:46.764Z   \n",
              "3999  254582552  s2ag/valid      v1  2022-12-13T16:03:47.617Z   \n",
              "\n",
              "                       created  \\\n",
              "3000  2022-12-15T00:00:00.000Z   \n",
              "3001  2022-12-12T00:00:00.000Z   \n",
              "3002  2022-12-30T00:00:00.000Z   \n",
              "3003  2022-12-09T00:00:00.000Z   \n",
              "3004  2022-12-19T00:00:00.000Z   \n",
              "...                        ...   \n",
              "3995  2022-12-01T00:00:00.000Z   \n",
              "3996  2022-12-22T00:00:00.000Z   \n",
              "3997  2022-12-18T00:00:00.000Z   \n",
              "3998  2022-12-01T00:00:00.000Z   \n",
              "3999  2023-01-01T00:00:00.000Z   \n",
              "\n",
              "                                                   text  \n",
              "3000  Geochemical Signatures of Felsic Volcanic Rock...  \n",
              "3001  ‘Mixed Blood’ and Aesthetic Evolution in China...  \n",
              "3002  Applying universal design principles to improv...  \n",
              "3003  Social Exclusion of Women of Civil Victims Of ...  \n",
              "3004  A progressive change in the virulence spectrum...  \n",
              "...                                                 ...  \n",
              "3995  Predicting Conversions from Normal to MCI and ...  \n",
              "3996  Three-Dimensional Division of Visible Light Co...  \n",
              "3997  Synthesis and Characterization of Nanoformulat...  \n",
              "3998  Curcumin Attenuates Lipopolysaccharide-Induced...  \n",
              "3999  A new hybrid method for mutual coupling minimi...  \n",
              "\n",
              "[1000 rows x 6 columns]"
            ]
          },
          "execution_count": 11,
          "metadata": {},
          "output_type": "execute_result"
        }
      ],
      "source": [
        "df_test"
      ]
    },
    {
      "cell_type": "code",
      "execution_count": null,
      "metadata": {
        "tags": [],
        "id": "fbbATQtCSzoT",
        "outputId": "a60e608b-7654-4314-fe30-933671e74eca"
      },
      "outputs": [
        {
          "name": "stdout",
          "output_type": "stream",
          "text": [
            "Requirement already satisfied: nltk in d:\\programming_setup\\mini_conda\\envs\\gpu_test\\lib\\site-packages (3.8.1)\n",
            "Requirement already satisfied: click in d:\\programming_setup\\mini_conda\\envs\\gpu_test\\lib\\site-packages (from nltk) (8.1.7)\n",
            "Requirement already satisfied: joblib in d:\\programming_setup\\mini_conda\\envs\\gpu_test\\lib\\site-packages (from nltk) (1.2.0)\n",
            "Requirement already satisfied: regex>=2021.8.3 in d:\\programming_setup\\mini_conda\\envs\\gpu_test\\lib\\site-packages (from nltk) (2023.8.8)\n",
            "Requirement already satisfied: tqdm in d:\\programming_setup\\mini_conda\\envs\\gpu_test\\lib\\site-packages (from nltk) (4.66.1)\n",
            "Requirement already satisfied: colorama in d:\\programming_setup\\mini_conda\\envs\\gpu_test\\lib\\site-packages (from click->nltk) (0.4.6)\n"
          ]
        },
        {
          "name": "stderr",
          "output_type": "stream",
          "text": [
            "\n",
            "[notice] A new release of pip is available: 23.1 -> 23.2.1\n",
            "[notice] To update, run: python.exe -m pip install --upgrade pip\n"
          ]
        }
      ],
      "source": [
        "!pip install nltk"
      ]
    },
    {
      "cell_type": "code",
      "execution_count": null,
      "metadata": {
        "id": "T1CjPauci0Mi",
        "tags": []
      },
      "outputs": [],
      "source": [
        "import os\n",
        "import re\n",
        "import numpy as np\n",
        "from sklearn.feature_extraction.text import TfidfVectorizer\n",
        "from nltk.corpus import stopwords"
      ]
    },
    {
      "cell_type": "code",
      "execution_count": null,
      "metadata": {
        "colab": {
          "base_uri": "https://localhost:8080/"
        },
        "id": "g7OU-kCCi0Mj",
        "outputId": "782a4c62-12b8-4a6c-fd6b-65cbdf34977b",
        "tags": []
      },
      "outputs": [
        {
          "name": "stderr",
          "output_type": "stream",
          "text": [
            "[nltk_data] Downloading package stopwords to\n",
            "[nltk_data]     C:\\Users\\DJ\\AppData\\Roaming\\nltk_data...\n",
            "[nltk_data]   Package stopwords is already up-to-date!\n"
          ]
        }
      ],
      "source": [
        "# Initialize the TF-IDF vectorizer\n",
        "import nltk\n",
        "nltk.download('stopwords')\n",
        "tfidf_vectorizer = TfidfVectorizer(lowercase=False, stop_words=stopwords.words('english'))"
      ]
    },
    {
      "cell_type": "code",
      "execution_count": null,
      "metadata": {
        "colab": {
          "base_uri": "https://localhost:8080/"
        },
        "id": "qNLiAFRue1tB",
        "outputId": "ec1c3d12-3323-4335-e611-26edaee5de32",
        "tags": []
      },
      "outputs": [
        {
          "name": "stderr",
          "output_type": "stream",
          "text": [
            "[nltk_data] Downloading package averaged_perceptron_tagger to\n",
            "[nltk_data]     C:\\Users\\DJ\\AppData\\Roaming\\nltk_data...\n",
            "[nltk_data]   Package averaged_perceptron_tagger is already up-to-\n",
            "[nltk_data]       date!\n",
            "[nltk_data] Downloading package punkt to\n",
            "[nltk_data]     C:\\Users\\DJ\\AppData\\Roaming\\nltk_data...\n",
            "[nltk_data]   Package punkt is already up-to-date!\n",
            "[nltk_data] Downloading package stopwords to\n",
            "[nltk_data]     C:\\Users\\DJ\\AppData\\Roaming\\nltk_data...\n",
            "[nltk_data]   Package stopwords is already up-to-date!\n",
            "[nltk_data] Downloading package wordnet to\n",
            "[nltk_data]     C:\\Users\\DJ\\AppData\\Roaming\\nltk_data...\n",
            "[nltk_data]   Package wordnet is already up-to-date!\n"
          ]
        },
        {
          "data": {
            "text/plain": [
              "True"
            ]
          },
          "execution_count": 15,
          "metadata": {},
          "output_type": "execute_result"
        }
      ],
      "source": [
        "import re\n",
        "import string\n",
        "import pandas as pd\n",
        "import numpy as np\n",
        "import math\n",
        "from numpy import array\n",
        "import nltk\n",
        "from nltk.tokenize import word_tokenize\n",
        "from nltk.corpus import stopwords\n",
        "from sklearn.cluster import KMeans\n",
        "from collections import Counter\n",
        "from nltk.stem import WordNetLemmatizer\n",
        "from nltk import word_tokenize, pos_tag\n",
        "\n",
        "nltk.download('averaged_perceptron_tagger')\n",
        "nltk.download('punkt')\n",
        "nltk.download('stopwords')\n",
        "nltk.download('wordnet')"
      ]
    },
    {
      "cell_type": "code",
      "execution_count": null,
      "metadata": {
        "id": "_DpUpeN7vyO3",
        "tags": []
      },
      "outputs": [],
      "source": [
        "# Pre-processing function to apply the specified cleanup\n",
        "def preprocess_text(text):\n",
        "    # Remove URLs\n",
        "    text = re.sub(r'http\\S+', '', text)\n",
        "\n",
        "    # Remove bullets, enumerations, hyphens, and punctuation\n",
        "    text = re.sub(r'[\\•\\-\\d]+', ' ', text)\n",
        "    text = re.sub(r'[\\'\\\"\\,\\.\\!\\?\\:\\;\\(\\)\\[\\]\\{\\}\\<\\>]', ' ', text)\n",
        "\n",
        "    # Convert numerical values to text\n",
        "    text = re.sub(r'\\d+', lambda x: num2words(x.group()), text)\n",
        "\n",
        "    # Remove stopwords\n",
        "    stop_words = set(stopwords.words('english'))\n",
        "    words = word_tokenize(text.lower())\n",
        "    words = [word for word in words if word not in stop_words]\n",
        "\n",
        "    # Reconstruct sentences\n",
        "    text = \" \".join(words)\n",
        "\n",
        "    return text\n"
      ]
    },
    {
      "cell_type": "code",
      "execution_count": null,
      "metadata": {
        "id": "IwIklakEKSI7",
        "tags": []
      },
      "outputs": [],
      "source": [
        "data = [doc for doc in df_train['text'].tolist()]"
      ]
    },
    {
      "cell_type": "code",
      "execution_count": null,
      "metadata": {
        "colab": {
          "base_uri": "https://localhost:8080/"
        },
        "id": "OwWVQ-WvdTod",
        "outputId": "3a0b9723-9620-458c-fedd-230de08959ef",
        "tags": []
      },
      "outputs": [
        {
          "data": {
            "text/plain": [
              "\"Investigation Some Characteristics of Biocomposites Coating for Biomedical Implants\\n\\nThe surface has a vital function in the tissue's response to the presence of foreign material in the field of body implants. Surface modification with coatings can be adjusted to provide the highest service performance at the lowest cost. Coatings can increase corrosion resistance by reducing metal ion and corrosion product migration in the body. We fabricated polymer based bio-composite coatings by blending chitosan (Chi), alginate (Alg) and nanoparticles ((TiO2, Nb2O5) by dip coating onto a 316L stainless steel substrate. The coatings’ surface morphology and phases were studied using FESEM and FTIR analysis. The wettability behavior of the coated samples was also studied by investigating their contact wetting attributes. The antibacterial activity of the functionalized coatings was determined too. The FTIR results showed that the blending of Chi-Alg and nanoparticles was excellent, and no obvious differences in the spectra or any changes in the structures of the polymer matrices were observed. The SEM results demonstrated that the coating layers were uniform, homogeneous, and crack-free on the 316L Stianless steel substrate when using TiO2-Nb2O5 nano particles. The contact angle results showed the highly hydrophilic properties of the pure chitosan-alginate blend. As well, coatings containing nano particles showed the same antibacterial effect of chitosan-alginate blend coating.\""
            ]
          },
          "execution_count": 18,
          "metadata": {},
          "output_type": "execute_result"
        }
      ],
      "source": [
        "data[0]"
      ]
    },
    {
      "cell_type": "code",
      "execution_count": null,
      "metadata": {
        "id": "D1f97i5zNLX5",
        "tags": []
      },
      "outputs": [],
      "source": [
        "def preprocess_text1(text):\n",
        "    text = re.sub(r'\\d+' , '', text)\n",
        "    text = remove_punctuation(text)\n",
        "    text = text.lower()\n",
        "    text = text.strip()\n",
        "    text = re.sub(r'\\b\\w{1,2}\\b', '', text)\n",
        "    tokens = toknizing(text)\n",
        "    pos_map = {'J': 'a', 'N': 'n', 'R': 'r', 'V': 'v'}\n",
        "    pos_tags = pos_tag(tokens)\n",
        "    lemmatiser = WordNetLemmatizer()\n",
        "    tokens = [lemmatiser.lemmatize(t.lower(), pos=pos_map.get(p[0], 'v')) for t, p in pos_tags]\n",
        "    return tokens"
      ]
    },
    {
      "cell_type": "code",
      "execution_count": null,
      "metadata": {
        "id": "gtFEiQxghDDT",
        "tags": []
      },
      "outputs": [],
      "source": [
        "def remove_punctuation(text):\n",
        "     punctuations = '''!()-[]{};:'\"\\,<>./?@#$%^+&*_~'''\n",
        "     no_punct = \"\"\n",
        "     for char in text:\n",
        "        if char not in punctuations:\n",
        "            no_punct = no_punct + char\n",
        "     return no_punct"
      ]
    },
    {
      "cell_type": "code",
      "execution_count": null,
      "metadata": {
        "id": "ZmUv8ltHhKyF",
        "tags": []
      },
      "outputs": [],
      "source": [
        "def toknizing(text):\n",
        "  stop_words = set(stopwords.words('english'))\n",
        "  tokens = word_tokenize(text)\n",
        "  result = [i for i in tokens if not i in stop_words]\n",
        "  return result"
      ]
    },
    {
      "cell_type": "code",
      "execution_count": null,
      "metadata": {
        "id": "A6ZnoACKNQnc",
        "tags": []
      },
      "outputs": [],
      "source": [
        "train_sentences = [preprocess_text1(doc) for doc in df_train['text'].tolist()]\n",
        "test_sentences = [preprocess_text1(doc) for doc in df_test['text'].tolist()]"
      ]
    },
    {
      "cell_type": "code",
      "execution_count": null,
      "metadata": {
        "colab": {
          "base_uri": "https://localhost:8080/"
        },
        "id": "2MvKnqlKeK_G",
        "outputId": "c48fd63f-9e7c-4f24-80f8-e301fb5442a1",
        "tags": []
      },
      "outputs": [
        {
          "name": "stdout",
          "output_type": "stream",
          "text": [
            "['investigation', 'characteristic', 'biocomposites', 'coat', 'biomedical', 'implant', 'surface', 'vital', 'function', 'tissue', 'response', 'presence', 'foreign', 'material', 'field', 'body', 'implant', 'surface', 'modification', 'coating', 'adjust', 'provide', 'high', 'service', 'performance', 'low', 'cost', 'coating', 'increase', 'corrosion', 'resistance', 'reduce', 'metal', 'ion', 'corrosion', 'product', 'migration', 'body', 'fabricate', 'polymer', 'base', 'biocomposite', 'coating', 'blend', 'chitosan', 'chi', 'alginate', 'alg', 'nanoparticles', 'tio', 'nbo', 'dip', 'coat', 'onto', 'stainless', 'steel', 'substrate', 'coating', '’', 'surface', 'morphology', 'phase', 'study', 'use', 'fesem', 'ftir', 'analysis', 'wettability', 'behavior', 'coat', 'sample', 'also', 'study', 'investigate', 'contact', 'wet', 'attribute', 'antibacterial', 'activity', 'functionalized', 'coating', 'determine', 'ftir', 'result', 'show', 'blend', 'chialg', 'nanoparticles', 'excellent', 'obvious', 'difference', 'spectra', 'change', 'structure', 'polymer', 'matrix', 'observe', 'sem', 'result', 'demonstrate', 'coat', 'layer', 'uniform', 'homogeneous', 'crackfree', 'stianless', 'steel', 'substrate', 'use', 'tionbo', 'nano', 'particle', 'contact', 'angle', 'result', 'show', 'highly', 'hydrophilic', 'property', 'pure', 'chitosanalginate', 'blend', 'well', 'coating', 'contain', 'nano', 'particle', 'show', 'antibacterial', 'effect', 'chitosanalginate', 'blend', 'coating']\n",
            "['model', 'technique', 'conjunctive', 'water', 'management', 'review', 'optimal', 'allocation', 'surface', 'water', 'groundwater', 'key', 'factor', 'conjunctive', 'water', 'management', 'proper', 'plan', 'necessary', 'optimal', 'allocation', 'water', 'maximize', 'crop', 'yield', 'benefit', 'andor', 'minimize', 'water', 'quality', 'problem', 'advent', 'computer', 'late', 'computeraided', 'mathematical', 'model', 'come', 'use', 'help', 'decisionmakers', 'plan', 'conjunctive', 'water', 'management', 'optimization', 'model', 'popular', 'early', 'decade', 'researcher', 'come', 'know', 'advantage', 'mimic', 'situation', 'analyze', 'arrive', 'optimal', 'solution', 'thus', 'simulation', 'model', 'integrate', 'simulationoptimization', 'model', 'come', 'existence', 'multiobjective', 'model', 'develop', 'solve', 'complicate', 'physical', 'situation', 'computational', 'burden', 'run', 'thousand', 'lakhs', 'simulation', 'get', 'optimum', 'solution', 'generate', 'evolution', 'algorithm', 'like', 'ann', 'reduce', 'run', 'time', 'model', 'obtain', 'accurate', 'solution', 'even', '’', 'say', 'model', 'approach', 'perfect', 'solve', 'realworld', 'waterrelated', 'issue', 'involve', 'complicate', 'physical', 'phenomenon', 'model', 'accurate', 'simpler', 'near', 'real', 'situation', 'may', 'develop', 'near', 'future']\n",
            "['complete', 'target', 'coverage', 'energy', 'harvest', 'internet', 'thing', 'ambient', 'backscatter', 'article', 'considers', 'derive', 'set', 'cover', 'set', 'active', 'node', 'responsible', 'monitor', 'target', 'internet', 'thing', 'iot', 'network', 'key', 'distinction', 'prior', 'work', 'article', 'considers', 'sensor', 'node', 'aid', 'backscatter', 'communication', 'allow', 'communicate', 'negligible', 'energy', 'cost', 'use', 'ambient', 'radio', 'frequency', 'signal', 'article', 'contain', 'three', 'main', 'novelty', 'first', 'present', 'mixed', 'integer', 'linear', 'program', 'milp', 'use', 'compute', 'global', 'optimal', 'solution', 'second', 'also', 'outline', 'centralized', 'greedy', 'schedule', 'cgs', 'algorithm', 'selects', 'node', 'base', 'energy', 'number', 'cover', 'target', 'third', 'present', 'distribute', 'greedy', 'schedule', 'dg', 'algorithm', 'select', 'node', 'accord', 'energy', 'level', 'simulation', 'result', 'show', 'equip', 'node', 'ambient', 'backscatter', 'capability', 'increase', 'ratio', 'complete', 'target', 'coverage', 'compare', 'exist', 'technique']\n",
            "['nonorthogonal', 'multiple', 'access', 'enable', 'twoway', 'relay', 'system', 'use', 'signal', 'alignment', 'conventional', 'twoway', 'relay', 'nonorthogonal', 'multiple', 'access', 'twrnoma', 'system', 'diversity', 'order', 'equal', 'zero', 'even', 'perfect', 'successive', 'interference', 'cancellation', 'psic', 'article', 'leverage', 'multipleinput–multipleoutput', 'mimo', 'technique', 'twrnoma', 'system', 'extract', 'spatial', 'diversity', 'gain', 'performance', 'enhancement', 'communication', 'two', 'user', 'pair', 'assist', 'relay', 'precoding', 'vector', 'user', 'well', 'matrix', 'relay', 'specially', 'design', 'perform', 'signal', 'alignment', 'derive', 'analytical', 'closedform', 'expression', 'outage', 'probability', 'diversity', 'order', 'psic', 'imperfect', 'successive', 'interference', 'cancellation', 'ipsic', 'addition', 'ergodic', 'rate', 'ergodic', 'sum', 'rate', 'analyze', 'optimal', 'power', 'allocation', 'system', 'outage', 'probability', 'ergodic', 'sum', 'rate', 'analyze', 'base', 'quality', 'service', 'simulation', 'result', 'provide', 'confirm', 'derive', 'analytical', 'result', 'result', 'show', 'combination', 'twrnoma', 'decrease', 'outage', 'probability', 'improve', 'diversity', 'order', 'effectively', 'ergodic', 'rate', 'finally', 'arise', 'ceiling', 'psic', 'ipsic', 'ergodic', 'sum', 'rate', 'keep', 'increase', 'power', 'allocate', 'distant', 'user', 'increase', 'however', 'conventional', 'twrnoma', 'complete', 'opposite', 'summary', 'compare', 'twrnoma', 'twrnomasa', 'high', 'diversity', 'order', 'enables', 'distant', 'user', 'contribute', 'system', 'performance']\n",
            "['case', 'complete', 'atrioventricular', 'block', 'alternate', 'bundle', 'branch', 'block', 'due', 'fulminant', 'myocarditis', 'yearold', 'man', 'without', 'previous', 'cardiological', 'history', 'present', 'emergency', 'department', 'hypotension', 'multiorgan', 'failure', 'laboratory', 'testing', 'show', 'elevated', 'white', 'cell', 'blood', 'count', 'mcl', 'normal', 'value', 'mcl', 'neutrophil', 'highsensibility', 'troponin', 'ngl', 'normal', 'value', 'ngl', 'ntprobnp', 'pgml', 'normal', 'value', 'pgml', 'electrocardiogram', 'ekg', 'sinus', 'rhythm', 'complete', 'atrioventricular', 'block', 'alternate', 'right', 'left', 'bundle', 'branch', 'block', 'echocardiography', 'reveal', 'moderate', 'leave', 'ventricular', 'dilatation', 'mild', 'hypertrophy', 'severe', 'biventricular', 'dysfunction', 'ejection', 'fraction', 'dense', 'spontaneous', 'echo', 'contrast', 'moderate', 'pulmonary', 'hypertension', 'systolic', 'pulmonary', 'artery', 'pressure', 'mmhg', 'position', 'temporary', 'pacemaker', 'patient', 'transfer', 'cardiac', 'intensive', 'care', 'unit', 'initial', 'hemodynamic', 'stabilization', 'endovenous', 'inotropes', 'diuretic', 'mechanical', 'circulatory', 'support', 'intraaortic', 'balloon', 'pump', 'coronary', 'angiography', 'perform', 'show', 'normal', 'coronary', 'artery', 'since', 'fulminant', 'myocarditis', 'suspect', 'magnetic', 'resonance', 'feasible', 'due', 'patient', 'instability', 'endomyocardial', 'biopsy', 'emb', 'perform', 'evidence', 'myocardial', 'edema', 'initial', 'myocardial', 'fibrosis', 'concomitant', 'presence', 'lymphocytic', 'eosinophilic', 'endomyocarditis', 'despite', 'normal', 'eosinophilic', 'blood', 'count', 'without', 'evidence', 'active', 'viral', 'replication', 'careful', 'exclusion', 'latent', 'active', 'infection', 'high', 'dos', 'corticosteroid', 'azathioprine', 'initiate', 'rapid', 'laboratoristic', 'clinical', 'response', 'ekg', 'show', 'block', 'regression', 'qrs', 'widths', 'normalization', 'pacemaker', 'remove', 'lvef', 'rapidly', 'improve', 'completely', 'normalized', 'discharge', 'two', 'week', 'early', 'followup', 'cardiac', 'magnetic', 'resonance', 'cmr', 'perform', 'evidence', 'persistency', 'mildly', 'dilate', 'normalization', 'wall', 'thickness', 'biventricular', 'function', 'diffuse', 'increase', 'relaxation', 'time', 'increase', 'signal', 'anterior', 'septal', 'wall', 'intramural', 'anteroseptal', 'late', 'gadolinium', 'enhancement', 'lge', 'fulminant', 'myocarditis', 'rare', 'presentation', 'acute', 'myocarditis', 'low', 'incidence', 'high', 'mortality', 'inflammation', 'myocardium', 'lead', 'acute', 'heart', 'failure', 'cardiogenic', 'shock', 'cardiac', 'arrhythmia', 'include', 'sinus', 'arrest', 'block', 'ventricular', 'tachycardia', 'ventricular', 'fibrillation', 'acute', 'phase', 'case', 'block', 'could', 'expression', 'anteroseptal', 'involvement', 'document', 'cmr', 'localization', 'already', 'associate', 'bad', 'clinical', 'presentation', 'could', 'marker', 'poor', 'prognosis', 'diagnosis', 'treatment', 'fulminant', 'myocarditis', 'require', 'emb', 'obtain', 'information', 'etiology', 'active', 'viral', 'replication', 'heart', 'tissue', 'case', 'florid', 'inflammatory', 'state', 'absence', 'viral', 'replication', 'allow', 'prompt', 'treatment', 'immunosuppressor', 'quick', 'full', 'recovery', 'biventricular', 'function', 'two', 'week']\n"
          ]
        }
      ],
      "source": [
        "for i in range(5):\n",
        "  print(train_sentences[i])"
      ]
    },
    {
      "cell_type": "markdown",
      "metadata": {
        "id": "AWt44LTKQ61v"
      },
      "source": []
    },
    {
      "cell_type": "markdown",
      "metadata": {
        "id": "-iw-QTm9Q6_q"
      },
      "source": [
        "#returning sentences instead of tokens"
      ]
    },
    {
      "cell_type": "code",
      "execution_count": null,
      "metadata": {
        "id": "8wf-rZAXRIeF",
        "tags": []
      },
      "outputs": [],
      "source": [
        "# Tokenize and preprocess the documents into sentences\n",
        "def tokenize_and_preprocess(document):\n",
        "    sentences = re.split(r'(?<!\\w\\.\\w.)(?<![A-Z][a-z]\\.)(?<=\\.|\\?|\\!)\\s', document)\n",
        "    sentences = [preprocess_text(sentence) for sentence in sentences if sentence.strip()]\n",
        "    return sentences"
      ]
    },
    {
      "cell_type": "code",
      "execution_count": null,
      "metadata": {
        "id": "YEBIj3kcZcmv",
        "tags": []
      },
      "outputs": [],
      "source": [
        "train_sentences = [tokenize_and_preprocess(doc) for doc in df_train['text'].tolist()]\n",
        "test_sentences = [tokenize_and_preprocess(doc) for doc in df_test['text'].tolist()]"
      ]
    },
    {
      "cell_type": "code",
      "execution_count": null,
      "metadata": {
        "colab": {
          "base_uri": "https://localhost:8080/"
        },
        "id": "T9cBNPLKeFEj",
        "outputId": "b7533734-c7c2-4540-82ed-025f80858af9",
        "tags": []
      },
      "outputs": [
        {
          "data": {
            "text/plain": [
              "['investigation characteristics biocomposites coating biomedical implants surface vital function tissue response presence foreign material field body implants',\n",
              " 'surface modification coatings adjusted provide highest service performance lowest cost',\n",
              " 'coatings increase corrosion resistance reducing metal ion corrosion product migration body',\n",
              " 'fabricated polymer based bio composite coatings blending chitosan chi alginate alg nanoparticles tio nb dip coating onto l stainless steel substrate',\n",
              " 'coatings ’ surface morphology phases studied using fesem ftir analysis',\n",
              " 'wettability behavior coated samples also studied investigating contact wetting attributes',\n",
              " 'antibacterial activity functionalized coatings determined',\n",
              " 'ftir results showed blending chi alg nanoparticles excellent obvious differences spectra changes structures polymer matrices observed',\n",
              " 'sem results demonstrated coating layers uniform homogeneous crack free l stianless steel substrate using tio nb nano particles',\n",
              " 'contact angle results showed highly hydrophilic properties pure chitosan alginate blend',\n",
              " 'well coatings containing nano particles showed antibacterial effect chitosan alginate blend coating']"
            ]
          },
          "execution_count": 26,
          "metadata": {},
          "output_type": "execute_result"
        }
      ],
      "source": [
        "train_sentences[0]"
      ]
    },
    {
      "cell_type": "code",
      "execution_count": null,
      "metadata": {
        "id": "Pk7NV9z-hnBI",
        "tags": []
      },
      "outputs": [],
      "source": [
        "combined_list = [item for sublist in train_sentences for item in sublist]"
      ]
    },
    {
      "cell_type": "code",
      "execution_count": null,
      "metadata": {
        "colab": {
          "base_uri": "https://localhost:8080/",
          "height": 53
        },
        "id": "StF-TZ5_iWfh",
        "outputId": "3e62194f-a312-4ae5-d6ba-3ca6df50ac36",
        "tags": []
      },
      "outputs": [
        {
          "data": {
            "text/plain": [
              "'investigation characteristics biocomposites coating biomedical implants surface vital function tissue response presence foreign material field body implants'"
            ]
          },
          "execution_count": 28,
          "metadata": {},
          "output_type": "execute_result"
        }
      ],
      "source": [
        "combined_list[0]"
      ]
    },
    {
      "cell_type": "code",
      "execution_count": null,
      "metadata": {
        "colab": {
          "base_uri": "https://localhost:8080/"
        },
        "id": "sAcPXEEFiZ7g",
        "outputId": "2ab7b839-c386-4838-ca1a-bb1d4bd84c05",
        "tags": []
      },
      "outputs": [
        {
          "data": {
            "text/plain": [
              "26747"
            ]
          },
          "execution_count": 29,
          "metadata": {},
          "output_type": "execute_result"
        }
      ],
      "source": [
        "len(combined_list)"
      ]
    },
    {
      "cell_type": "code",
      "execution_count": null,
      "metadata": {
        "id": "bArocsvMbI0g",
        "tags": []
      },
      "outputs": [],
      "source": [
        "import os\n",
        "import re\n",
        "import numpy as np\n",
        "from sklearn.feature_extraction.text import TfidfVectorizer\n",
        "from nltk.corpus import stopwords"
      ]
    },
    {
      "cell_type": "code",
      "execution_count": null,
      "metadata": {
        "id": "dkI-AN9IbcgA",
        "tags": []
      },
      "outputs": [],
      "source": [
        "# Initialize the TF-IDF vectorizer\n",
        "tfidf_vectorizer = TfidfVectorizer(lowercase=False, stop_words=stopwords.words('english'))"
      ]
    },
    {
      "cell_type": "code",
      "execution_count": null,
      "metadata": {
        "id": "_axMkKMib2G9",
        "tags": []
      },
      "outputs": [],
      "source": [
        "# TD-IDF Matrix\n",
        "X = tfidf_vectorizer.fit_transform(combined_list)\n",
        "\n",
        "# extracting feature names\n",
        "tfidf_tokens = tfidf_vectorizer.get_feature_names_out()"
      ]
    },
    {
      "cell_type": "code",
      "execution_count": null,
      "metadata": {
        "colab": {
          "base_uri": "https://localhost:8080/"
        },
        "id": "Ju-7_hp7jKIj",
        "outputId": "160f5cce-b562-4065-a1e4-f5cd727de1bf",
        "tags": []
      },
      "outputs": [
        {
          "data": {
            "text/plain": [
              "array(['_group', 'aa', 'aaa', ..., 'ﬂow', 'ﬂuid', '𝛿𝑡'], dtype=object)"
            ]
          },
          "execution_count": 33,
          "metadata": {},
          "output_type": "execute_result"
        }
      ],
      "source": [
        "tfidf_tokens"
      ]
    },
    {
      "cell_type": "code",
      "execution_count": null,
      "metadata": {
        "colab": {
          "base_uri": "https://localhost:8080/",
          "height": 1000
        },
        "id": "EQAzRFZajOwS",
        "outputId": "1bfb0361-8ccd-46f5-ad7f-80ca1542ad7e",
        "tags": []
      },
      "outputs": [
        {
          "data": {
            "text/html": [
              "<div>\n",
              "<style scoped>\n",
              "    .dataframe tbody tr th:only-of-type {\n",
              "        vertical-align: middle;\n",
              "    }\n",
              "\n",
              "    .dataframe tbody tr th {\n",
              "        vertical-align: top;\n",
              "    }\n",
              "\n",
              "    .dataframe thead th {\n",
              "        text-align: right;\n",
              "    }\n",
              "</style>\n",
              "<table border=\"1\" class=\"dataframe\">\n",
              "  <thead>\n",
              "    <tr style=\"text-align: right;\">\n",
              "      <th></th>\n",
              "      <th>_group</th>\n",
              "      <th>aa</th>\n",
              "      <th>aaa</th>\n",
              "      <th>aacr</th>\n",
              "      <th>aada</th>\n",
              "      <th>aapc</th>\n",
              "      <th>aaron</th>\n",
              "      <th>aas</th>\n",
              "      <th>aats</th>\n",
              "      <th>aav</th>\n",
              "      <th>...</th>\n",
              "      <th>ﬁnal</th>\n",
              "      <th>ﬁnd</th>\n",
              "      <th>ﬁrst</th>\n",
              "      <th>ﬁxed</th>\n",
              "      <th>ﬁxes</th>\n",
              "      <th>ﬂight</th>\n",
              "      <th>ﬂocks</th>\n",
              "      <th>ﬂow</th>\n",
              "      <th>ﬂuid</th>\n",
              "      <th>𝛿𝑡</th>\n",
              "    </tr>\n",
              "  </thead>\n",
              "  <tbody>\n",
              "    <tr>\n",
              "      <th>investigation characteristics biocomposites coating biomedical implants surface vital function tissue response presence foreign material field body implants</th>\n",
              "      <td>0.0</td>\n",
              "      <td>0.0</td>\n",
              "      <td>0.0</td>\n",
              "      <td>0.0</td>\n",
              "      <td>0.0</td>\n",
              "      <td>0.0</td>\n",
              "      <td>0.0</td>\n",
              "      <td>0.0</td>\n",
              "      <td>0.0</td>\n",
              "      <td>0.0</td>\n",
              "      <td>...</td>\n",
              "      <td>0.0</td>\n",
              "      <td>0.0</td>\n",
              "      <td>0.0</td>\n",
              "      <td>0.0</td>\n",
              "      <td>0.0</td>\n",
              "      <td>0.0</td>\n",
              "      <td>0.0</td>\n",
              "      <td>0.0</td>\n",
              "      <td>0.0</td>\n",
              "      <td>0.0</td>\n",
              "    </tr>\n",
              "    <tr>\n",
              "      <th>surface modification coatings adjusted provide highest service performance lowest cost</th>\n",
              "      <td>0.0</td>\n",
              "      <td>0.0</td>\n",
              "      <td>0.0</td>\n",
              "      <td>0.0</td>\n",
              "      <td>0.0</td>\n",
              "      <td>0.0</td>\n",
              "      <td>0.0</td>\n",
              "      <td>0.0</td>\n",
              "      <td>0.0</td>\n",
              "      <td>0.0</td>\n",
              "      <td>...</td>\n",
              "      <td>0.0</td>\n",
              "      <td>0.0</td>\n",
              "      <td>0.0</td>\n",
              "      <td>0.0</td>\n",
              "      <td>0.0</td>\n",
              "      <td>0.0</td>\n",
              "      <td>0.0</td>\n",
              "      <td>0.0</td>\n",
              "      <td>0.0</td>\n",
              "      <td>0.0</td>\n",
              "    </tr>\n",
              "    <tr>\n",
              "      <th>coatings increase corrosion resistance reducing metal ion corrosion product migration body</th>\n",
              "      <td>0.0</td>\n",
              "      <td>0.0</td>\n",
              "      <td>0.0</td>\n",
              "      <td>0.0</td>\n",
              "      <td>0.0</td>\n",
              "      <td>0.0</td>\n",
              "      <td>0.0</td>\n",
              "      <td>0.0</td>\n",
              "      <td>0.0</td>\n",
              "      <td>0.0</td>\n",
              "      <td>...</td>\n",
              "      <td>0.0</td>\n",
              "      <td>0.0</td>\n",
              "      <td>0.0</td>\n",
              "      <td>0.0</td>\n",
              "      <td>0.0</td>\n",
              "      <td>0.0</td>\n",
              "      <td>0.0</td>\n",
              "      <td>0.0</td>\n",
              "      <td>0.0</td>\n",
              "      <td>0.0</td>\n",
              "    </tr>\n",
              "    <tr>\n",
              "      <th>fabricated polymer based bio composite coatings blending chitosan chi alginate alg nanoparticles tio nb dip coating onto l stainless steel substrate</th>\n",
              "      <td>0.0</td>\n",
              "      <td>0.0</td>\n",
              "      <td>0.0</td>\n",
              "      <td>0.0</td>\n",
              "      <td>0.0</td>\n",
              "      <td>0.0</td>\n",
              "      <td>0.0</td>\n",
              "      <td>0.0</td>\n",
              "      <td>0.0</td>\n",
              "      <td>0.0</td>\n",
              "      <td>...</td>\n",
              "      <td>0.0</td>\n",
              "      <td>0.0</td>\n",
              "      <td>0.0</td>\n",
              "      <td>0.0</td>\n",
              "      <td>0.0</td>\n",
              "      <td>0.0</td>\n",
              "      <td>0.0</td>\n",
              "      <td>0.0</td>\n",
              "      <td>0.0</td>\n",
              "      <td>0.0</td>\n",
              "    </tr>\n",
              "    <tr>\n",
              "      <th>coatings ’ surface morphology phases studied using fesem ftir analysis</th>\n",
              "      <td>0.0</td>\n",
              "      <td>0.0</td>\n",
              "      <td>0.0</td>\n",
              "      <td>0.0</td>\n",
              "      <td>0.0</td>\n",
              "      <td>0.0</td>\n",
              "      <td>0.0</td>\n",
              "      <td>0.0</td>\n",
              "      <td>0.0</td>\n",
              "      <td>0.0</td>\n",
              "      <td>...</td>\n",
              "      <td>0.0</td>\n",
              "      <td>0.0</td>\n",
              "      <td>0.0</td>\n",
              "      <td>0.0</td>\n",
              "      <td>0.0</td>\n",
              "      <td>0.0</td>\n",
              "      <td>0.0</td>\n",
              "      <td>0.0</td>\n",
              "      <td>0.0</td>\n",
              "      <td>0.0</td>\n",
              "    </tr>\n",
              "    <tr>\n",
              "      <th>...</th>\n",
              "      <td>...</td>\n",
              "      <td>...</td>\n",
              "      <td>...</td>\n",
              "      <td>...</td>\n",
              "      <td>...</td>\n",
              "      <td>...</td>\n",
              "      <td>...</td>\n",
              "      <td>...</td>\n",
              "      <td>...</td>\n",
              "      <td>...</td>\n",
              "      <td>...</td>\n",
              "      <td>...</td>\n",
              "      <td>...</td>\n",
              "      <td>...</td>\n",
              "      <td>...</td>\n",
              "      <td>...</td>\n",
              "      <td>...</td>\n",
              "      <td>...</td>\n",
              "      <td>...</td>\n",
              "      <td>...</td>\n",
              "      <td>...</td>\n",
              "    </tr>\n",
              "    <tr>\n",
              "      <th>negative significant correlation found e gfr ckd prognosis p</th>\n",
              "      <td>0.0</td>\n",
              "      <td>0.0</td>\n",
              "      <td>0.0</td>\n",
              "      <td>0.0</td>\n",
              "      <td>0.0</td>\n",
              "      <td>0.0</td>\n",
              "      <td>0.0</td>\n",
              "      <td>0.0</td>\n",
              "      <td>0.0</td>\n",
              "      <td>0.0</td>\n",
              "      <td>...</td>\n",
              "      <td>0.0</td>\n",
              "      <td>0.0</td>\n",
              "      <td>0.0</td>\n",
              "      <td>0.0</td>\n",
              "      <td>0.0</td>\n",
              "      <td>0.0</td>\n",
              "      <td>0.0</td>\n",
              "      <td>0.0</td>\n",
              "      <td>0.0</td>\n",
              "      <td>0.0</td>\n",
              "    </tr>\n",
              "    <tr>\n",
              "      <th>additionally also significant correlations plasma ace il ckd prognosis p = r = p = r = respectively</th>\n",
              "      <td>0.0</td>\n",
              "      <td>0.0</td>\n",
              "      <td>0.0</td>\n",
              "      <td>0.0</td>\n",
              "      <td>0.0</td>\n",
              "      <td>0.0</td>\n",
              "      <td>0.0</td>\n",
              "      <td>0.0</td>\n",
              "      <td>0.0</td>\n",
              "      <td>0.0</td>\n",
              "      <td>...</td>\n",
              "      <td>0.0</td>\n",
              "      <td>0.0</td>\n",
              "      <td>0.0</td>\n",
              "      <td>0.0</td>\n",
              "      <td>0.0</td>\n",
              "      <td>0.0</td>\n",
              "      <td>0.0</td>\n",
              "      <td>0.0</td>\n",
              "      <td>0.0</td>\n",
              "      <td>0.0</td>\n",
              "    </tr>\n",
              "    <tr>\n",
              "      <th>significant positive correlation also found plasma ace il p = r =</th>\n",
              "      <td>0.0</td>\n",
              "      <td>0.0</td>\n",
              "      <td>0.0</td>\n",
              "      <td>0.0</td>\n",
              "      <td>0.0</td>\n",
              "      <td>0.0</td>\n",
              "      <td>0.0</td>\n",
              "      <td>0.0</td>\n",
              "      <td>0.0</td>\n",
              "      <td>0.0</td>\n",
              "      <td>...</td>\n",
              "      <td>0.0</td>\n",
              "      <td>0.0</td>\n",
              "      <td>0.0</td>\n",
              "      <td>0.0</td>\n",
              "      <td>0.0</td>\n",
              "      <td>0.0</td>\n",
              "      <td>0.0</td>\n",
              "      <td>0.0</td>\n",
              "      <td>0.0</td>\n",
              "      <td>0.0</td>\n",
              "    </tr>\n",
              "    <tr>\n",
              "      <th>conclusions significant correlation plasma ace il levels ckd prognosis</th>\n",
              "      <td>0.0</td>\n",
              "      <td>0.0</td>\n",
              "      <td>0.0</td>\n",
              "      <td>0.0</td>\n",
              "      <td>0.0</td>\n",
              "      <td>0.0</td>\n",
              "      <td>0.0</td>\n",
              "      <td>0.0</td>\n",
              "      <td>0.0</td>\n",
              "      <td>0.0</td>\n",
              "      <td>...</td>\n",
              "      <td>0.0</td>\n",
              "      <td>0.0</td>\n",
              "      <td>0.0</td>\n",
              "      <td>0.0</td>\n",
              "      <td>0.0</td>\n",
              "      <td>0.0</td>\n",
              "      <td>0.0</td>\n",
              "      <td>0.0</td>\n",
              "      <td>0.0</td>\n",
              "      <td>0.0</td>\n",
              "    </tr>\n",
              "    <tr>\n",
              "      <th>investigation revealed statistically significant positive relationship plasma ace il levels</th>\n",
              "      <td>0.0</td>\n",
              "      <td>0.0</td>\n",
              "      <td>0.0</td>\n",
              "      <td>0.0</td>\n",
              "      <td>0.0</td>\n",
              "      <td>0.0</td>\n",
              "      <td>0.0</td>\n",
              "      <td>0.0</td>\n",
              "      <td>0.0</td>\n",
              "      <td>0.0</td>\n",
              "      <td>...</td>\n",
              "      <td>0.0</td>\n",
              "      <td>0.0</td>\n",
              "      <td>0.0</td>\n",
              "      <td>0.0</td>\n",
              "      <td>0.0</td>\n",
              "      <td>0.0</td>\n",
              "      <td>0.0</td>\n",
              "      <td>0.0</td>\n",
              "      <td>0.0</td>\n",
              "      <td>0.0</td>\n",
              "    </tr>\n",
              "  </tbody>\n",
              "</table>\n",
              "<p>26747 rows × 32053 columns</p>\n",
              "</div>"
            ],
            "text/plain": [
              "                                                    _group   aa  aaa  aacr  \\\n",
              "investigation characteristics biocomposites coa...     0.0  0.0  0.0   0.0   \n",
              "surface modification coatings adjusted provide ...     0.0  0.0  0.0   0.0   \n",
              "coatings increase corrosion resistance reducing...     0.0  0.0  0.0   0.0   \n",
              "fabricated polymer based bio composite coatings...     0.0  0.0  0.0   0.0   \n",
              "coatings ’ surface morphology phases studied us...     0.0  0.0  0.0   0.0   \n",
              "...                                                    ...  ...  ...   ...   \n",
              "negative significant correlation found e gfr ck...     0.0  0.0  0.0   0.0   \n",
              "additionally also significant correlations plas...     0.0  0.0  0.0   0.0   \n",
              "significant positive correlation also found pla...     0.0  0.0  0.0   0.0   \n",
              "conclusions significant correlation plasma ace ...     0.0  0.0  0.0   0.0   \n",
              "investigation revealed statistically significan...     0.0  0.0  0.0   0.0   \n",
              "\n",
              "                                                    aada  aapc  aaron  aas  \\\n",
              "investigation characteristics biocomposites coa...   0.0   0.0    0.0  0.0   \n",
              "surface modification coatings adjusted provide ...   0.0   0.0    0.0  0.0   \n",
              "coatings increase corrosion resistance reducing...   0.0   0.0    0.0  0.0   \n",
              "fabricated polymer based bio composite coatings...   0.0   0.0    0.0  0.0   \n",
              "coatings ’ surface morphology phases studied us...   0.0   0.0    0.0  0.0   \n",
              "...                                                  ...   ...    ...  ...   \n",
              "negative significant correlation found e gfr ck...   0.0   0.0    0.0  0.0   \n",
              "additionally also significant correlations plas...   0.0   0.0    0.0  0.0   \n",
              "significant positive correlation also found pla...   0.0   0.0    0.0  0.0   \n",
              "conclusions significant correlation plasma ace ...   0.0   0.0    0.0  0.0   \n",
              "investigation revealed statistically significan...   0.0   0.0    0.0  0.0   \n",
              "\n",
              "                                                    aats  aav  ...  ﬁnal  ﬁnd  \\\n",
              "investigation characteristics biocomposites coa...   0.0  0.0  ...   0.0  0.0   \n",
              "surface modification coatings adjusted provide ...   0.0  0.0  ...   0.0  0.0   \n",
              "coatings increase corrosion resistance reducing...   0.0  0.0  ...   0.0  0.0   \n",
              "fabricated polymer based bio composite coatings...   0.0  0.0  ...   0.0  0.0   \n",
              "coatings ’ surface morphology phases studied us...   0.0  0.0  ...   0.0  0.0   \n",
              "...                                                  ...  ...  ...   ...  ...   \n",
              "negative significant correlation found e gfr ck...   0.0  0.0  ...   0.0  0.0   \n",
              "additionally also significant correlations plas...   0.0  0.0  ...   0.0  0.0   \n",
              "significant positive correlation also found pla...   0.0  0.0  ...   0.0  0.0   \n",
              "conclusions significant correlation plasma ace ...   0.0  0.0  ...   0.0  0.0   \n",
              "investigation revealed statistically significan...   0.0  0.0  ...   0.0  0.0   \n",
              "\n",
              "                                                    ﬁrst  ﬁxed  ﬁxes  ﬂight  \\\n",
              "investigation characteristics biocomposites coa...   0.0   0.0   0.0    0.0   \n",
              "surface modification coatings adjusted provide ...   0.0   0.0   0.0    0.0   \n",
              "coatings increase corrosion resistance reducing...   0.0   0.0   0.0    0.0   \n",
              "fabricated polymer based bio composite coatings...   0.0   0.0   0.0    0.0   \n",
              "coatings ’ surface morphology phases studied us...   0.0   0.0   0.0    0.0   \n",
              "...                                                  ...   ...   ...    ...   \n",
              "negative significant correlation found e gfr ck...   0.0   0.0   0.0    0.0   \n",
              "additionally also significant correlations plas...   0.0   0.0   0.0    0.0   \n",
              "significant positive correlation also found pla...   0.0   0.0   0.0    0.0   \n",
              "conclusions significant correlation plasma ace ...   0.0   0.0   0.0    0.0   \n",
              "investigation revealed statistically significan...   0.0   0.0   0.0    0.0   \n",
              "\n",
              "                                                    ﬂocks  ﬂow  ﬂuid   𝛿𝑡  \n",
              "investigation characteristics biocomposites coa...    0.0  0.0   0.0  0.0  \n",
              "surface modification coatings adjusted provide ...    0.0  0.0   0.0  0.0  \n",
              "coatings increase corrosion resistance reducing...    0.0  0.0   0.0  0.0  \n",
              "fabricated polymer based bio composite coatings...    0.0  0.0   0.0  0.0  \n",
              "coatings ’ surface morphology phases studied us...    0.0  0.0   0.0  0.0  \n",
              "...                                                   ...  ...   ...  ...  \n",
              "negative significant correlation found e gfr ck...    0.0  0.0   0.0  0.0  \n",
              "additionally also significant correlations plas...    0.0  0.0   0.0  0.0  \n",
              "significant positive correlation also found pla...    0.0  0.0   0.0  0.0  \n",
              "conclusions significant correlation plasma ace ...    0.0  0.0   0.0  0.0  \n",
              "investigation revealed statistically significan...    0.0  0.0   0.0  0.0  \n",
              "\n",
              "[26747 rows x 32053 columns]"
            ]
          },
          "execution_count": 34,
          "metadata": {},
          "output_type": "execute_result"
        }
      ],
      "source": [
        "import pandas as pd\n",
        "\n",
        "result = pd.DataFrame(\n",
        "    data=X.toarray(),\n",
        "    index=[X for X in combined_list],\n",
        "    columns=tfidf_tokens\n",
        ")\n",
        "\n",
        "result"
      ]
    },
    {
      "cell_type": "code",
      "execution_count": null,
      "metadata": {
        "tags": [],
        "id": "nmctA5uQSzof"
      },
      "outputs": [],
      "source": [
        "import numpy as np\n",
        "from sklearn.decomposition import TruncatedSVD\n",
        "\n",
        "# Assume your context matrix is represented as a NumPy array called 'context_matrix'\n",
        "# Each row in context_matrix represents a sentence\n",
        "\n",
        "# Define the number of components for SVD (the desired dimension of your embeddings)\n",
        "n_components = 100  # You can adjust this based on your requirements\n",
        "\n",
        "# Initialize the SVD model\n",
        "svd = TruncatedSVD(n_components=n_components)\n",
        "\n",
        "# Fit SVD to your context matrix\n",
        "sentence_embeddings = svd.fit_transform(X)\n",
        "\n",
        "# 'sentence_embeddings' now contains the embeddings for each row (sentence) in the context matrix\n",
        "\n",
        "# You can use these embeddings for various NLP tasks, like semantic similarity, clustering, etc."
      ]
    },
    {
      "cell_type": "code",
      "execution_count": null,
      "metadata": {
        "tags": [],
        "id": "SeFeeVMASzof",
        "outputId": "3bc3ca19-f675-4507-abb0-1f675be95be4"
      },
      "outputs": [
        {
          "data": {
            "text/plain": [
              "2674700"
            ]
          },
          "execution_count": 36,
          "metadata": {},
          "output_type": "execute_result"
        }
      ],
      "source": [
        "sentence_embeddings.size"
      ]
    },
    {
      "cell_type": "code",
      "execution_count": null,
      "metadata": {
        "tags": [],
        "id": "sBB2CSXgSzof",
        "outputId": "80020fb1-f86c-44b6-d8a8-ed09c94e2e47"
      },
      "outputs": [
        {
          "data": {
            "text/plain": [
              "array([ 0.05734276, -0.00444569, -0.01842832, -0.04888012, -0.0126824 ,\n",
              "       -0.01242457, -0.01927616, -0.00615985, -0.00271222, -0.01432896,\n",
              "        0.00992631, -0.00701645,  0.02180663, -0.00301681,  0.02969918,\n",
              "        0.01669667, -0.01098002,  0.03230762,  0.00334752, -0.01337908,\n",
              "        0.01116903, -0.03530829,  0.01673326, -0.00447464,  0.03999374,\n",
              "       -0.02915888, -0.08047061,  0.01718078,  0.04085751, -0.03472092,\n",
              "       -0.05720627, -0.00432936,  0.02667969, -0.09567278, -0.01558381,\n",
              "        0.04359967, -0.00835399, -0.00232975, -0.01083567, -0.04735391,\n",
              "        0.03460455,  0.04132891, -0.00798295, -0.03160178,  0.02273749,\n",
              "        0.02089943,  0.02054448, -0.02983005, -0.00201594,  0.00908523,\n",
              "        0.04853591, -0.01340161,  0.01217945,  0.00253164, -0.05022464,\n",
              "       -0.03818154, -0.03415976,  0.02487385,  0.00759243, -0.03884072,\n",
              "       -0.04581745,  0.00716193, -0.01866025, -0.01307869, -0.00712307,\n",
              "        0.02688209, -0.01289917,  0.00405264,  0.04389997, -0.01561651,\n",
              "        0.00653998, -0.02555112,  0.02180643,  0.03903752,  0.00246143,\n",
              "        0.04483071, -0.0260174 ,  0.04538167,  0.00565928,  0.01218509,\n",
              "        0.01276616,  0.01541148, -0.01554012, -0.04100703,  0.00598273,\n",
              "       -0.01430169,  0.04005617,  0.03394612, -0.02554473,  0.01513559,\n",
              "        0.0030834 ,  0.03096578,  0.04854132,  0.01931398,  0.00361082,\n",
              "       -0.00678203,  0.01168215, -0.00165704, -0.03974416,  0.01423345])"
            ]
          },
          "execution_count": 37,
          "metadata": {},
          "output_type": "execute_result"
        }
      ],
      "source": [
        "sentence_embeddings[1]"
      ]
    },
    {
      "cell_type": "code",
      "execution_count": null,
      "metadata": {
        "id": "CP60_lIxpz3L",
        "tags": []
      },
      "outputs": [],
      "source": [
        "data = np.unique(result)"
      ]
    },
    {
      "cell_type": "code",
      "execution_count": null,
      "metadata": {
        "id": "uOUzjdz3iRCD",
        "tags": [],
        "outputId": "59d25413-020c-4a8b-afdb-ac9be282eb2e"
      },
      "outputs": [
        {
          "data": {
            "text/plain": [
              "array([0.        , 0.02183662, 0.02222047, ..., 0.95932844, 0.98216966,\n",
              "       1.        ])"
            ]
          },
          "execution_count": 39,
          "metadata": {},
          "output_type": "execute_result"
        }
      ],
      "source": [
        "data"
      ]
    },
    {
      "cell_type": "code",
      "execution_count": null,
      "metadata": {
        "scrolled": true,
        "tags": [],
        "id": "oDM9nWjYSzok",
        "outputId": "c2c48133-6375-491d-9243-9afd0e0d709b"
      },
      "outputs": [
        {
          "data": {
            "text/plain": [
              "359412"
            ]
          },
          "execution_count": 40,
          "metadata": {},
          "output_type": "execute_result"
        }
      ],
      "source": [
        "len(data)"
      ]
    },
    {
      "cell_type": "code",
      "execution_count": null,
      "metadata": {
        "id": "3ojDzgN_Szok"
      },
      "outputs": [],
      "source": []
    },
    {
      "cell_type": "markdown",
      "metadata": {
        "id": "__VRBuWySzok"
      },
      "source": [
        "CODE 2"
      ]
    },
    {
      "cell_type": "markdown",
      "metadata": {
        "tags": [],
        "id": "Ott9mai2Szok"
      },
      "source": [
        "https://gist.github.com/b1nch3f/13dcbfae08be2ae9400e1ab063bde809"
      ]
    },
    {
      "cell_type": "code",
      "execution_count": null,
      "metadata": {
        "tags": [],
        "id": "4eEPoGqaSzok",
        "outputId": "896d69c3-6b1b-4480-944f-c8623486b99f"
      },
      "outputs": [
        {
          "name": "stdout",
          "output_type": "stream",
          "text": [
            "26747\n"
          ]
        }
      ],
      "source": [
        "print(len(combined_list))"
      ]
    },
    {
      "cell_type": "code",
      "execution_count": null,
      "metadata": {
        "tags": [],
        "id": "r5s7w8NxSzok"
      },
      "outputs": [],
      "source": [
        "corpus = combined_list[0:1000]"
      ]
    },
    {
      "cell_type": "code",
      "execution_count": null,
      "metadata": {
        "tags": [],
        "id": "oyz8oF5OSzok"
      },
      "outputs": [],
      "source": [
        "corpus"
      ]
    },
    {
      "cell_type": "code",
      "execution_count": null,
      "metadata": {
        "tags": [],
        "id": "RJ0bKMfySzok",
        "outputId": "064dc190-e446-41a5-d7ac-fb8bdf17d52c"
      },
      "outputs": [
        {
          "name": "stdout",
          "output_type": "stream",
          "text": [
            "['i', 'me', 'my', 'myself', 'we', 'our', 'ours', 'ourselves', 'you', \"you're\", \"you've\", \"you'll\", \"you'd\", 'your', 'yours', 'yourself', 'yourselves', 'he', 'him', 'his', 'himself', 'she', \"she's\", 'her', 'hers', 'herself', 'it', \"it's\", 'its', 'itself', 'they', 'them', 'their', 'theirs', 'themselves', 'what', 'which', 'who', 'whom', 'this', 'that', \"that'll\", 'these', 'those', 'am', 'is', 'are', 'was', 'were', 'be', 'been', 'being', 'have', 'has', 'had', 'having', 'do', 'does', 'did', 'doing', 'a', 'an', 'the', 'and', 'but', 'if', 'or', 'because', 'as', 'until', 'while', 'of', 'at', 'by', 'for', 'with', 'about', 'against', 'between', 'into', 'through', 'during', 'before', 'after', 'above', 'below', 'to', 'from', 'up', 'down', 'in', 'out', 'on', 'off', 'over', 'under', 'again', 'further', 'then', 'once', 'here', 'there', 'when', 'where', 'why', 'how', 'all', 'any', 'both', 'each', 'few', 'more', 'most', 'other', 'some', 'such', 'no', 'nor', 'not', 'only', 'own', 'same', 'so', 'than', 'too', 'very', 's', 't', 'can', 'will', 'just', 'don', \"don't\", 'should', \"should've\", 'now', 'd', 'll', 'm', 'o', 're', 've', 'y', 'ain', 'aren', \"aren't\", 'couldn', \"couldn't\", 'didn', \"didn't\", 'doesn', \"doesn't\", 'hadn', \"hadn't\", 'hasn', \"hasn't\", 'haven', \"haven't\", 'isn', \"isn't\", 'ma', 'mightn', \"mightn't\", 'mustn', \"mustn't\", 'needn', \"needn't\", 'shan', \"shan't\", 'shouldn', \"shouldn't\", 'wasn', \"wasn't\", 'weren', \"weren't\", 'won', \"won't\", 'wouldn', \"wouldn't\"]\n"
          ]
        }
      ],
      "source": [
        "print(stopwords.words('english'))"
      ]
    },
    {
      "cell_type": "code",
      "execution_count": null,
      "metadata": {
        "tags": [],
        "id": "1alSYBaZSzol"
      },
      "outputs": [],
      "source": [
        "def remove_stop_words(corpus):\n",
        "    stop_words = stopwords.words('english')\n",
        "    results = []\n",
        "    for text in corpus:\n",
        "        tmp = text.split(' ')\n",
        "        for stop_word in stop_words:\n",
        "            if stop_word in tmp:\n",
        "                tmp.remove(stop_word)\n",
        "        results.append(\" \".join(tmp))\n",
        "\n",
        "    return results"
      ]
    },
    {
      "cell_type": "code",
      "execution_count": null,
      "metadata": {
        "tags": [],
        "id": "Z2FMIq_gSzol"
      },
      "outputs": [],
      "source": [
        "corpus"
      ]
    },
    {
      "cell_type": "code",
      "execution_count": null,
      "metadata": {
        "tags": [],
        "id": "PWiBFDlTSzol"
      },
      "outputs": [],
      "source": [
        "words = []\n",
        "for text in corpus:\n",
        "    for word in text.split(' '):\n",
        "        words.append(word)\n",
        "\n",
        "words = set(words)"
      ]
    },
    {
      "cell_type": "code",
      "execution_count": null,
      "metadata": {
        "tags": [],
        "id": "pN0R63RUSzol"
      },
      "outputs": [],
      "source": [
        "word2int = {}\n",
        "\n",
        "for i,word in enumerate(words):\n",
        "    word2int[word] = i\n",
        "\n",
        "data = []\n",
        "for idx, sentence in enumerate(corpus):\n",
        "    for word in sentence.split():\n",
        "        data.append([idx, word])"
      ]
    },
    {
      "cell_type": "code",
      "execution_count": null,
      "metadata": {
        "tags": [],
        "id": "GonxH0VvSzol",
        "outputId": "945aaf66-0d48-4a0f-e308-6a79659fbe72"
      },
      "outputs": [
        {
          "data": {
            "text/html": [
              "<div>\n",
              "<style scoped>\n",
              "    .dataframe tbody tr th:only-of-type {\n",
              "        vertical-align: middle;\n",
              "    }\n",
              "\n",
              "    .dataframe tbody tr th {\n",
              "        vertical-align: top;\n",
              "    }\n",
              "\n",
              "    .dataframe thead th {\n",
              "        text-align: right;\n",
              "    }\n",
              "</style>\n",
              "<table border=\"1\" class=\"dataframe\">\n",
              "  <thead>\n",
              "    <tr style=\"text-align: right;\">\n",
              "      <th></th>\n",
              "      <th>pid</th>\n",
              "      <th>label</th>\n",
              "    </tr>\n",
              "  </thead>\n",
              "  <tbody>\n",
              "    <tr>\n",
              "      <th>0</th>\n",
              "      <td>0</td>\n",
              "      <td>investigation</td>\n",
              "    </tr>\n",
              "    <tr>\n",
              "      <th>1</th>\n",
              "      <td>0</td>\n",
              "      <td>characteristics</td>\n",
              "    </tr>\n",
              "    <tr>\n",
              "      <th>2</th>\n",
              "      <td>0</td>\n",
              "      <td>biocomposites</td>\n",
              "    </tr>\n",
              "    <tr>\n",
              "      <th>3</th>\n",
              "      <td>0</td>\n",
              "      <td>coating</td>\n",
              "    </tr>\n",
              "    <tr>\n",
              "      <th>4</th>\n",
              "      <td>0</td>\n",
              "      <td>biomedical</td>\n",
              "    </tr>\n",
              "    <tr>\n",
              "      <th>5</th>\n",
              "      <td>0</td>\n",
              "      <td>implants</td>\n",
              "    </tr>\n",
              "    <tr>\n",
              "      <th>6</th>\n",
              "      <td>0</td>\n",
              "      <td>surface</td>\n",
              "    </tr>\n",
              "    <tr>\n",
              "      <th>7</th>\n",
              "      <td>0</td>\n",
              "      <td>vital</td>\n",
              "    </tr>\n",
              "    <tr>\n",
              "      <th>8</th>\n",
              "      <td>0</td>\n",
              "      <td>function</td>\n",
              "    </tr>\n",
              "    <tr>\n",
              "      <th>9</th>\n",
              "      <td>0</td>\n",
              "      <td>tissue</td>\n",
              "    </tr>\n",
              "  </tbody>\n",
              "</table>\n",
              "</div>"
            ],
            "text/plain": [
              "   pid            label\n",
              "0    0    investigation\n",
              "1    0  characteristics\n",
              "2    0    biocomposites\n",
              "3    0          coating\n",
              "4    0       biomedical\n",
              "5    0         implants\n",
              "6    0          surface\n",
              "7    0            vital\n",
              "8    0         function\n",
              "9    0           tissue"
            ]
          },
          "execution_count": 123,
          "metadata": {},
          "output_type": "execute_result"
        }
      ],
      "source": [
        "df = pd.DataFrame(data, columns = ['pid', 'label'])\n",
        "df.head(10)"
      ]
    },
    {
      "cell_type": "code",
      "execution_count": null,
      "metadata": {
        "tags": [],
        "id": "AzhOx_YvSzol",
        "outputId": "20dafd2f-b7d3-4539-a2f1-ea5a5b03238a"
      },
      "outputs": [
        {
          "data": {
            "text/plain": [
              "(15407, 2)"
            ]
          },
          "execution_count": 100,
          "metadata": {},
          "output_type": "execute_result"
        }
      ],
      "source": [
        "df.shape"
      ]
    },
    {
      "cell_type": "code",
      "execution_count": null,
      "metadata": {
        "tags": [],
        "id": "wqx6xsC5Szom",
        "outputId": "4183abe3-270b-4fe4-d24f-f070c323eabc"
      },
      "outputs": [
        {
          "data": {
            "text/plain": [
              "1000"
            ]
          },
          "execution_count": 101,
          "metadata": {},
          "output_type": "execute_result"
        }
      ],
      "source": [
        "ONE_HOT_DIM_DOC = len(corpus)\n",
        "ONE_HOT_DIM_DOC"
      ]
    },
    {
      "cell_type": "code",
      "execution_count": null,
      "metadata": {
        "tags": [],
        "id": "6EtPnvZjSzom",
        "outputId": "c219f5cf-b67c-4acf-c887-706b1114f182"
      },
      "outputs": [
        {
          "data": {
            "text/plain": [
              "4801"
            ]
          },
          "execution_count": 102,
          "metadata": {},
          "output_type": "execute_result"
        }
      ],
      "source": [
        "ONE_HOT_DIM_WORD = len(words)\n",
        "ONE_HOT_DIM_WORD"
      ]
    },
    {
      "cell_type": "code",
      "execution_count": null,
      "metadata": {
        "tags": [],
        "id": "nb_ztSBoSzom"
      },
      "outputs": [],
      "source": [
        "# function to convert numbers to one hot vectors\n",
        "def to_one_hot_encoding(data_point_index, ONE_HOT_DIM):\n",
        "    one_hot_encoding = np.zeros(ONE_HOT_DIM)\n",
        "    one_hot_encoding[data_point_index] = 1\n",
        "    return one_hot_encoding"
      ]
    },
    {
      "cell_type": "code",
      "execution_count": null,
      "metadata": {
        "tags": [],
        "id": "fDVxP-aKSzom"
      },
      "outputs": [],
      "source": [
        "def data_generator(df, one_hot_dim_doc, one_hot_dim_word, word2int):\n",
        "    for x, y in zip(df['pid'], df['label']):\n",
        "        yield to_one_hot_encoding(x, one_hot_dim_doc), to_one_hot_encoding(word2int[y], one_hot_dim_word)\n",
        "\n",
        "# Usage example:\n",
        "X = []\n",
        "Y = []\n",
        "for x, y in data_generator(df, ONE_HOT_DIM_DOC, ONE_HOT_DIM_WORD, word2int):\n",
        "    X.append(x)\n",
        "    Y.append(y)"
      ]
    },
    {
      "cell_type": "code",
      "execution_count": null,
      "metadata": {
        "tags": [],
        "id": "9FyQbz4rSzom"
      },
      "outputs": [],
      "source": [
        "# convert them to numpy arrays\n",
        "X = np.asarray(X)\n",
        "y = np.asarray(Y)"
      ]
    },
    {
      "cell_type": "code",
      "execution_count": null,
      "metadata": {
        "tags": [],
        "id": "Uc08-ZzsSzom"
      },
      "outputs": [],
      "source": [
        "def data_iter(batch_size, features, labels):\n",
        "    num_examples = len(features)\n",
        "    indices = list(range(num_examples))\n",
        "    # The examples are read at random, in no particular order\n",
        "    random.shuffle(indices)\n",
        "    for i in range(0, num_examples, batch_size):\n",
        "        j = tf.constant(indices[i: min(i + batch_size, num_examples)])\n",
        "        yield tf.gather(features, j), tf.gather(labels, j)"
      ]
    },
    {
      "cell_type": "code",
      "execution_count": null,
      "metadata": {
        "tags": [],
        "id": "qd_v-s9ZSzon",
        "outputId": "7715aeb2-0e31-4878-b6e3-026a7c3ac751"
      },
      "outputs": [
        {
          "name": "stdout",
          "output_type": "stream",
          "text": [
            "tf.Tensor(\n",
            "[[0. 0. 0. ... 0. 0. 0.]\n",
            " [0. 0. 0. ... 0. 0. 0.]\n",
            " [0. 0. 0. ... 0. 0. 0.]\n",
            " ...\n",
            " [0. 0. 0. ... 0. 0. 0.]\n",
            " [0. 0. 0. ... 0. 0. 0.]\n",
            " [0. 0. 0. ... 0. 0. 0.]], shape=(10, 1000), dtype=float64) \n",
            " tf.Tensor(\n",
            "[[0. 0. 0. ... 0. 0. 0.]\n",
            " [0. 0. 0. ... 0. 0. 0.]\n",
            " [0. 0. 0. ... 0. 0. 0.]\n",
            " ...\n",
            " [0. 0. 0. ... 0. 0. 0.]\n",
            " [0. 0. 0. ... 0. 0. 0.]\n",
            " [0. 0. 0. ... 0. 0. 0.]], shape=(10, 4801), dtype=float64)\n"
          ]
        }
      ],
      "source": [
        "batch_size = 10\n",
        "\n",
        "for X, y in data_iter(batch_size, X, y):\n",
        "    print(X, '\\n', y)\n",
        "    break"
      ]
    },
    {
      "cell_type": "code",
      "execution_count": null,
      "metadata": {
        "tags": [],
        "id": "e3gH8_DVSzon"
      },
      "outputs": [],
      "source": [
        "# Initializing Model Parameters\n",
        "para_size = len(corpus)\n",
        "vocab_size = len(words)\n",
        "num_hiddens = 10\n",
        "\n",
        "W1 = tf.Variable(tf.random.normal(shape=(para_size, num_hiddens), mean=0, stddev=0.01))\n",
        "W2 = tf.Variable(tf.random.normal(shape=(num_hiddens, vocab_size), mean=0, stddev=0.01))\n",
        "\n",
        "params = [W1, W2]"
      ]
    },
    {
      "cell_type": "code",
      "execution_count": null,
      "metadata": {
        "tags": [],
        "id": "rtRLrJzASzon"
      },
      "outputs": [],
      "source": [
        "# Softmax Activation\n",
        "def softmax(X):\n",
        "    X_exp = tf.exp(X)\n",
        "    partition = tf.reduce_sum(X_exp, 1, keepdims=True)\n",
        "    return X_exp / partition"
      ]
    },
    {
      "cell_type": "code",
      "execution_count": null,
      "metadata": {
        "tags": [],
        "id": "V-8J_B4RSzon"
      },
      "outputs": [],
      "source": [
        "# Forward Propagation\n",
        "def net(X):\n",
        "    X = tf.reshape(tf.cast(X, dtype=tf.float32), (-1, para_size))\n",
        "    a1 = tf.matmul(X, W1)\n",
        "    a2 = tf.matmul(a1, W2)\n",
        "    return softmax(a2)"
      ]
    },
    {
      "cell_type": "code",
      "execution_count": null,
      "metadata": {
        "tags": [],
        "id": "LrKQeD1QSzon"
      },
      "outputs": [],
      "source": [
        "# Loss Function\n",
        "def cross_entropy(y_hat, y):\n",
        "    return -tf.math.log(tf.boolean_mask(y_hat, y))"
      ]
    },
    {
      "cell_type": "code",
      "execution_count": null,
      "metadata": {
        "tags": [],
        "id": "tyrSyADbSzon"
      },
      "outputs": [],
      "source": [
        "# Optimization\n",
        "def sgd(params, grads, lr, batch_size):\n",
        "    \"\"\"Minibatch stochastic gradient descent.\n",
        "    Defined in :numref:`sec_linear_scratch`\"\"\"\n",
        "    for param, grad in zip(params, grads):\n",
        "        param.assign_sub(lr*grad/batch_size)"
      ]
    },
    {
      "cell_type": "code",
      "execution_count": null,
      "metadata": {
        "tags": [],
        "id": "TGhyOSP1Szon"
      },
      "outputs": [],
      "source": [
        "# Training\n",
        "num_epochs = 10\n",
        "lr = 0.1\n",
        "loss = cross_entropy\n",
        "\n",
        "for epoch in range(num_epochs):\n",
        "    for X, y in data_iter(batch_size, X, y):\n",
        "        # Compute gradients and update parameters\n",
        "        with tf.GradientTape() as tape:\n",
        "            y_hat = net(X)\n",
        "            l = loss(y_hat, y)\n",
        "        # Compute gradient on l with respect to [`w`, `b`]\n",
        "        grads = tape.gradient(l, params)\n",
        "        # Update parameters using their gradient\n",
        "        sgd(params, grads, lr, batch_size)"
      ]
    },
    {
      "cell_type": "code",
      "execution_count": null,
      "metadata": {
        "tags": [],
        "id": "OQaS-uYwSzoo",
        "outputId": "6635a93b-6765-44e8-a55c-021a79eaaa92"
      },
      "outputs": [
        {
          "data": {
            "text/plain": [
              "array([[ 0.00165813, -0.00040552, -0.01096095,  0.02029846,  0.00058648,\n",
              "        -0.00218436,  0.01354778, -0.00597002,  0.00568486, -0.00575738],\n",
              "       [-0.01015021,  0.00203624,  0.00598121, -0.00126758, -0.00886476,\n",
              "         0.00732347,  0.00339794,  0.01582761,  0.0162759 , -0.02117119],\n",
              "       [ 0.00071518,  0.00158902, -0.00115005,  0.00529776, -0.00600697,\n",
              "         0.01459289, -0.01654943,  0.00611146,  0.0043891 ,  0.00667281],\n",
              "       [-0.02381264,  0.00226682,  0.0042288 ,  0.007755  , -0.01272931,\n",
              "         0.01048362, -0.00061596, -0.01060449,  0.00896199,  0.00922523],\n",
              "       [-0.00074815,  0.00844054, -0.00178332, -0.00373073, -0.01688201,\n",
              "        -0.01166729, -0.01341521, -0.01312302, -0.01502402,  0.00714719]],\n",
              "      dtype=float32)"
            ]
          },
          "execution_count": 114,
          "metadata": {},
          "output_type": "execute_result"
        }
      ],
      "source": [
        "vectors = W1.numpy()\n",
        "vectors[0:5]"
      ]
    },
    {
      "cell_type": "code",
      "execution_count": null,
      "metadata": {
        "tags": [],
        "id": "AXWiiDoPSzoo"
      },
      "outputs": [],
      "source": [
        "p2v_df = pd.DataFrame(vectors)"
      ]
    },
    {
      "cell_type": "code",
      "execution_count": null,
      "metadata": {
        "tags": [],
        "id": "aXCxAQzRSzoo",
        "outputId": "c3146299-c010-4ad8-e9c1-af93edeacf66"
      },
      "outputs": [
        {
          "data": {
            "text/html": [
              "<div>\n",
              "<style scoped>\n",
              "    .dataframe tbody tr th:only-of-type {\n",
              "        vertical-align: middle;\n",
              "    }\n",
              "\n",
              "    .dataframe tbody tr th {\n",
              "        vertical-align: top;\n",
              "    }\n",
              "\n",
              "    .dataframe thead th {\n",
              "        text-align: right;\n",
              "    }\n",
              "</style>\n",
              "<table border=\"1\" class=\"dataframe\">\n",
              "  <thead>\n",
              "    <tr style=\"text-align: right;\">\n",
              "      <th></th>\n",
              "      <th>0</th>\n",
              "      <th>1</th>\n",
              "      <th>2</th>\n",
              "      <th>3</th>\n",
              "      <th>4</th>\n",
              "      <th>5</th>\n",
              "      <th>6</th>\n",
              "      <th>7</th>\n",
              "      <th>8</th>\n",
              "      <th>9</th>\n",
              "      <th>para</th>\n",
              "    </tr>\n",
              "  </thead>\n",
              "  <tbody>\n",
              "    <tr>\n",
              "      <th>0</th>\n",
              "      <td>0.001658</td>\n",
              "      <td>-0.000406</td>\n",
              "      <td>-0.010961</td>\n",
              "      <td>0.020298</td>\n",
              "      <td>0.000586</td>\n",
              "      <td>-0.002184</td>\n",
              "      <td>0.013548</td>\n",
              "      <td>-0.005970</td>\n",
              "      <td>0.005685</td>\n",
              "      <td>-0.005757</td>\n",
              "      <td>investigation characteristics biocomposites co...</td>\n",
              "    </tr>\n",
              "    <tr>\n",
              "      <th>1</th>\n",
              "      <td>-0.010150</td>\n",
              "      <td>0.002036</td>\n",
              "      <td>0.005981</td>\n",
              "      <td>-0.001268</td>\n",
              "      <td>-0.008865</td>\n",
              "      <td>0.007323</td>\n",
              "      <td>0.003398</td>\n",
              "      <td>0.015828</td>\n",
              "      <td>0.016276</td>\n",
              "      <td>-0.021171</td>\n",
              "      <td>surface modification coatings adjusted provide...</td>\n",
              "    </tr>\n",
              "    <tr>\n",
              "      <th>2</th>\n",
              "      <td>0.000715</td>\n",
              "      <td>0.001589</td>\n",
              "      <td>-0.001150</td>\n",
              "      <td>0.005298</td>\n",
              "      <td>-0.006007</td>\n",
              "      <td>0.014593</td>\n",
              "      <td>-0.016549</td>\n",
              "      <td>0.006111</td>\n",
              "      <td>0.004389</td>\n",
              "      <td>0.006673</td>\n",
              "      <td>coatings increase corrosion resistance reducin...</td>\n",
              "    </tr>\n",
              "    <tr>\n",
              "      <th>3</th>\n",
              "      <td>-0.023813</td>\n",
              "      <td>0.002267</td>\n",
              "      <td>0.004229</td>\n",
              "      <td>0.007755</td>\n",
              "      <td>-0.012729</td>\n",
              "      <td>0.010484</td>\n",
              "      <td>-0.000616</td>\n",
              "      <td>-0.010604</td>\n",
              "      <td>0.008962</td>\n",
              "      <td>0.009225</td>\n",
              "      <td>fabricated polymer based bio composite coating...</td>\n",
              "    </tr>\n",
              "    <tr>\n",
              "      <th>4</th>\n",
              "      <td>-0.000748</td>\n",
              "      <td>0.008441</td>\n",
              "      <td>-0.001783</td>\n",
              "      <td>-0.003731</td>\n",
              "      <td>-0.016882</td>\n",
              "      <td>-0.011667</td>\n",
              "      <td>-0.013415</td>\n",
              "      <td>-0.013123</td>\n",
              "      <td>-0.015024</td>\n",
              "      <td>0.007147</td>\n",
              "      <td>coatings ’ surface morphology phases studied u...</td>\n",
              "    </tr>\n",
              "    <tr>\n",
              "      <th>...</th>\n",
              "      <td>...</td>\n",
              "      <td>...</td>\n",
              "      <td>...</td>\n",
              "      <td>...</td>\n",
              "      <td>...</td>\n",
              "      <td>...</td>\n",
              "      <td>...</td>\n",
              "      <td>...</td>\n",
              "      <td>...</td>\n",
              "      <td>...</td>\n",
              "      <td>...</td>\n",
              "    </tr>\n",
              "    <tr>\n",
              "      <th>995</th>\n",
              "      <td>-0.025961</td>\n",
              "      <td>-0.001814</td>\n",
              "      <td>-0.008841</td>\n",
              "      <td>-0.003096</td>\n",
              "      <td>0.002801</td>\n",
              "      <td>-0.009122</td>\n",
              "      <td>0.008212</td>\n",
              "      <td>0.016887</td>\n",
              "      <td>0.017102</td>\n",
              "      <td>0.001052</td>\n",
              "      <td>parameters take account values coefficients ch...</td>\n",
              "    </tr>\n",
              "    <tr>\n",
              "      <th>996</th>\n",
              "      <td>0.002769</td>\n",
              "      <td>-0.002499</td>\n",
              "      <td>0.025276</td>\n",
              "      <td>0.021966</td>\n",
              "      <td>-0.011601</td>\n",
              "      <td>-0.006806</td>\n",
              "      <td>-0.027298</td>\n",
              "      <td>-0.005454</td>\n",
              "      <td>-0.005876</td>\n",
              "      <td>0.008541</td>\n",
              "      <td>set values parameters range varying possible v...</td>\n",
              "    </tr>\n",
              "    <tr>\n",
              "      <th>997</th>\n",
              "      <td>-0.016466</td>\n",
              "      <td>-0.011339</td>\n",
              "      <td>0.003614</td>\n",
              "      <td>-0.002773</td>\n",
              "      <td>0.003766</td>\n",
              "      <td>-0.005364</td>\n",
              "      <td>0.001009</td>\n",
              "      <td>-0.022676</td>\n",
              "      <td>0.000959</td>\n",
              "      <td>0.000987</td>\n",
              "      <td>influence number planetary gears simple planet...</td>\n",
              "    </tr>\n",
              "    <tr>\n",
              "      <th>998</th>\n",
              "      <td>0.005739</td>\n",
              "      <td>-0.006983</td>\n",
              "      <td>-0.001411</td>\n",
              "      <td>-0.003331</td>\n",
              "      <td>-0.007469</td>\n",
              "      <td>0.005175</td>\n",
              "      <td>-0.005487</td>\n",
              "      <td>0.027153</td>\n",
              "      <td>0.007008</td>\n",
              "      <td>0.000566</td>\n",
              "      <td>based function analogue equivalent moment iner...</td>\n",
              "    </tr>\n",
              "    <tr>\n",
              "      <th>999</th>\n",
              "      <td>0.001955</td>\n",
              "      <td>-0.011194</td>\n",
              "      <td>-0.016931</td>\n",
              "      <td>-0.009253</td>\n",
              "      <td>0.014282</td>\n",
              "      <td>0.004621</td>\n",
              "      <td>0.002543</td>\n",
              "      <td>0.001298</td>\n",
              "      <td>-0.006415</td>\n",
              "      <td>0.008531</td>\n",
              "      <td>keywords simple james planetary mechanism mech...</td>\n",
              "    </tr>\n",
              "  </tbody>\n",
              "</table>\n",
              "<p>1000 rows × 11 columns</p>\n",
              "</div>"
            ],
            "text/plain": [
              "            0         1         2         3         4         5         6  \\\n",
              "0    0.001658 -0.000406 -0.010961  0.020298  0.000586 -0.002184  0.013548   \n",
              "1   -0.010150  0.002036  0.005981 -0.001268 -0.008865  0.007323  0.003398   \n",
              "2    0.000715  0.001589 -0.001150  0.005298 -0.006007  0.014593 -0.016549   \n",
              "3   -0.023813  0.002267  0.004229  0.007755 -0.012729  0.010484 -0.000616   \n",
              "4   -0.000748  0.008441 -0.001783 -0.003731 -0.016882 -0.011667 -0.013415   \n",
              "..        ...       ...       ...       ...       ...       ...       ...   \n",
              "995 -0.025961 -0.001814 -0.008841 -0.003096  0.002801 -0.009122  0.008212   \n",
              "996  0.002769 -0.002499  0.025276  0.021966 -0.011601 -0.006806 -0.027298   \n",
              "997 -0.016466 -0.011339  0.003614 -0.002773  0.003766 -0.005364  0.001009   \n",
              "998  0.005739 -0.006983 -0.001411 -0.003331 -0.007469  0.005175 -0.005487   \n",
              "999  0.001955 -0.011194 -0.016931 -0.009253  0.014282  0.004621  0.002543   \n",
              "\n",
              "            7         8         9  \\\n",
              "0   -0.005970  0.005685 -0.005757   \n",
              "1    0.015828  0.016276 -0.021171   \n",
              "2    0.006111  0.004389  0.006673   \n",
              "3   -0.010604  0.008962  0.009225   \n",
              "4   -0.013123 -0.015024  0.007147   \n",
              "..        ...       ...       ...   \n",
              "995  0.016887  0.017102  0.001052   \n",
              "996 -0.005454 -0.005876  0.008541   \n",
              "997 -0.022676  0.000959  0.000987   \n",
              "998  0.027153  0.007008  0.000566   \n",
              "999  0.001298 -0.006415  0.008531   \n",
              "\n",
              "                                                  para  \n",
              "0    investigation characteristics biocomposites co...  \n",
              "1    surface modification coatings adjusted provide...  \n",
              "2    coatings increase corrosion resistance reducin...  \n",
              "3    fabricated polymer based bio composite coating...  \n",
              "4    coatings ’ surface morphology phases studied u...  \n",
              "..                                                 ...  \n",
              "995  parameters take account values coefficients ch...  \n",
              "996  set values parameters range varying possible v...  \n",
              "997  influence number planetary gears simple planet...  \n",
              "998  based function analogue equivalent moment iner...  \n",
              "999  keywords simple james planetary mechanism mech...  \n",
              "\n",
              "[1000 rows x 11 columns]"
            ]
          },
          "execution_count": 116,
          "metadata": {},
          "output_type": "execute_result"
        }
      ],
      "source": [
        "p2v_df['para'] = corpus\n",
        "p2v_df"
      ]
    },
    {
      "cell_type": "code",
      "execution_count": null,
      "metadata": {
        "tags": [],
        "id": "_8QoxzjXSzoo"
      },
      "outputs": [],
      "source": [
        "from sklearn.metrics.pairwise import cosine_similarity"
      ]
    },
    {
      "cell_type": "code",
      "execution_count": null,
      "metadata": {
        "tags": [],
        "id": "xsHJB4IxSzop",
        "outputId": "b134e0b4-3056-4ad0-873b-bd0c66ba83e0"
      },
      "outputs": [
        {
          "data": {
            "text/html": [
              "<div>\n",
              "<style scoped>\n",
              "    .dataframe tbody tr th:only-of-type {\n",
              "        vertical-align: middle;\n",
              "    }\n",
              "\n",
              "    .dataframe tbody tr th {\n",
              "        vertical-align: top;\n",
              "    }\n",
              "\n",
              "    .dataframe thead th {\n",
              "        text-align: right;\n",
              "    }\n",
              "</style>\n",
              "<table border=\"1\" class=\"dataframe\">\n",
              "  <thead>\n",
              "    <tr style=\"text-align: right;\">\n",
              "      <th></th>\n",
              "      <th>0</th>\n",
              "      <th>1</th>\n",
              "      <th>2</th>\n",
              "      <th>3</th>\n",
              "      <th>4</th>\n",
              "      <th>5</th>\n",
              "      <th>6</th>\n",
              "      <th>7</th>\n",
              "      <th>8</th>\n",
              "      <th>9</th>\n",
              "    </tr>\n",
              "  </thead>\n",
              "  <tbody>\n",
              "    <tr>\n",
              "      <th>0</th>\n",
              "      <td>0.001658</td>\n",
              "      <td>-0.000406</td>\n",
              "      <td>-0.010961</td>\n",
              "      <td>0.020298</td>\n",
              "      <td>0.000586</td>\n",
              "      <td>-0.002184</td>\n",
              "      <td>0.013548</td>\n",
              "      <td>-0.005970</td>\n",
              "      <td>0.005685</td>\n",
              "      <td>-0.005757</td>\n",
              "    </tr>\n",
              "    <tr>\n",
              "      <th>1</th>\n",
              "      <td>-0.010150</td>\n",
              "      <td>0.002036</td>\n",
              "      <td>0.005981</td>\n",
              "      <td>-0.001268</td>\n",
              "      <td>-0.008865</td>\n",
              "      <td>0.007323</td>\n",
              "      <td>0.003398</td>\n",
              "      <td>0.015828</td>\n",
              "      <td>0.016276</td>\n",
              "      <td>-0.021171</td>\n",
              "    </tr>\n",
              "    <tr>\n",
              "      <th>2</th>\n",
              "      <td>0.000715</td>\n",
              "      <td>0.001589</td>\n",
              "      <td>-0.001150</td>\n",
              "      <td>0.005298</td>\n",
              "      <td>-0.006007</td>\n",
              "      <td>0.014593</td>\n",
              "      <td>-0.016549</td>\n",
              "      <td>0.006111</td>\n",
              "      <td>0.004389</td>\n",
              "      <td>0.006673</td>\n",
              "    </tr>\n",
              "    <tr>\n",
              "      <th>3</th>\n",
              "      <td>-0.023813</td>\n",
              "      <td>0.002267</td>\n",
              "      <td>0.004229</td>\n",
              "      <td>0.007755</td>\n",
              "      <td>-0.012729</td>\n",
              "      <td>0.010484</td>\n",
              "      <td>-0.000616</td>\n",
              "      <td>-0.010604</td>\n",
              "      <td>0.008962</td>\n",
              "      <td>0.009225</td>\n",
              "    </tr>\n",
              "    <tr>\n",
              "      <th>4</th>\n",
              "      <td>-0.000748</td>\n",
              "      <td>0.008441</td>\n",
              "      <td>-0.001783</td>\n",
              "      <td>-0.003731</td>\n",
              "      <td>-0.016882</td>\n",
              "      <td>-0.011667</td>\n",
              "      <td>-0.013415</td>\n",
              "      <td>-0.013123</td>\n",
              "      <td>-0.015024</td>\n",
              "      <td>0.007147</td>\n",
              "    </tr>\n",
              "    <tr>\n",
              "      <th>5</th>\n",
              "      <td>-0.003553</td>\n",
              "      <td>0.005549</td>\n",
              "      <td>-0.007009</td>\n",
              "      <td>0.011124</td>\n",
              "      <td>0.004171</td>\n",
              "      <td>0.010067</td>\n",
              "      <td>-0.003269</td>\n",
              "      <td>-0.017244</td>\n",
              "      <td>-0.003866</td>\n",
              "      <td>-0.006944</td>\n",
              "    </tr>\n",
              "    <tr>\n",
              "      <th>6</th>\n",
              "      <td>0.010115</td>\n",
              "      <td>0.003357</td>\n",
              "      <td>0.007225</td>\n",
              "      <td>-0.010898</td>\n",
              "      <td>-0.005469</td>\n",
              "      <td>-0.005922</td>\n",
              "      <td>-0.015124</td>\n",
              "      <td>0.007749</td>\n",
              "      <td>-0.004396</td>\n",
              "      <td>0.018024</td>\n",
              "    </tr>\n",
              "    <tr>\n",
              "      <th>7</th>\n",
              "      <td>0.009012</td>\n",
              "      <td>0.019040</td>\n",
              "      <td>0.009301</td>\n",
              "      <td>0.005959</td>\n",
              "      <td>-0.002589</td>\n",
              "      <td>0.001694</td>\n",
              "      <td>0.025823</td>\n",
              "      <td>-0.001168</td>\n",
              "      <td>-0.005246</td>\n",
              "      <td>0.002411</td>\n",
              "    </tr>\n",
              "    <tr>\n",
              "      <th>8</th>\n",
              "      <td>0.005400</td>\n",
              "      <td>0.015464</td>\n",
              "      <td>0.016020</td>\n",
              "      <td>0.000176</td>\n",
              "      <td>-0.009932</td>\n",
              "      <td>0.010734</td>\n",
              "      <td>0.010707</td>\n",
              "      <td>-0.006187</td>\n",
              "      <td>-0.005361</td>\n",
              "      <td>0.002724</td>\n",
              "    </tr>\n",
              "    <tr>\n",
              "      <th>9</th>\n",
              "      <td>-0.000505</td>\n",
              "      <td>0.018541</td>\n",
              "      <td>-0.006445</td>\n",
              "      <td>-0.017326</td>\n",
              "      <td>0.003571</td>\n",
              "      <td>-0.006027</td>\n",
              "      <td>0.010663</td>\n",
              "      <td>-0.006283</td>\n",
              "      <td>0.002678</td>\n",
              "      <td>0.004928</td>\n",
              "    </tr>\n",
              "  </tbody>\n",
              "</table>\n",
              "</div>"
            ],
            "text/plain": [
              "          0         1         2         3         4         5         6  \\\n",
              "0  0.001658 -0.000406 -0.010961  0.020298  0.000586 -0.002184  0.013548   \n",
              "1 -0.010150  0.002036  0.005981 -0.001268 -0.008865  0.007323  0.003398   \n",
              "2  0.000715  0.001589 -0.001150  0.005298 -0.006007  0.014593 -0.016549   \n",
              "3 -0.023813  0.002267  0.004229  0.007755 -0.012729  0.010484 -0.000616   \n",
              "4 -0.000748  0.008441 -0.001783 -0.003731 -0.016882 -0.011667 -0.013415   \n",
              "5 -0.003553  0.005549 -0.007009  0.011124  0.004171  0.010067 -0.003269   \n",
              "6  0.010115  0.003357  0.007225 -0.010898 -0.005469 -0.005922 -0.015124   \n",
              "7  0.009012  0.019040  0.009301  0.005959 -0.002589  0.001694  0.025823   \n",
              "8  0.005400  0.015464  0.016020  0.000176 -0.009932  0.010734  0.010707   \n",
              "9 -0.000505  0.018541 -0.006445 -0.017326  0.003571 -0.006027  0.010663   \n",
              "\n",
              "          7         8         9  \n",
              "0 -0.005970  0.005685 -0.005757  \n",
              "1  0.015828  0.016276 -0.021171  \n",
              "2  0.006111  0.004389  0.006673  \n",
              "3 -0.010604  0.008962  0.009225  \n",
              "4 -0.013123 -0.015024  0.007147  \n",
              "5 -0.017244 -0.003866 -0.006944  \n",
              "6  0.007749 -0.004396  0.018024  \n",
              "7 -0.001168 -0.005246  0.002411  \n",
              "8 -0.006187 -0.005361  0.002724  \n",
              "9 -0.006283  0.002678  0.004928  "
            ]
          },
          "execution_count": 118,
          "metadata": {},
          "output_type": "execute_result"
        }
      ],
      "source": [
        "x = p2v_df.iloc[0:10, 0:10]\n",
        "x"
      ]
    },
    {
      "cell_type": "code",
      "execution_count": null,
      "metadata": {
        "tags": [],
        "id": "iMXWDACoSzop",
        "outputId": "8e5f8214-36b8-4367-988b-ec3bf41a1db9"
      },
      "outputs": [
        {
          "name": "stdout",
          "output_type": "stream",
          "text": [
            "<class 'pandas.core.frame.DataFrame'>\n"
          ]
        },
        {
          "data": {
            "text/html": [
              "<div>\n",
              "<style scoped>\n",
              "    .dataframe tbody tr th:only-of-type {\n",
              "        vertical-align: middle;\n",
              "    }\n",
              "\n",
              "    .dataframe tbody tr th {\n",
              "        vertical-align: top;\n",
              "    }\n",
              "\n",
              "    .dataframe thead th {\n",
              "        text-align: right;\n",
              "    }\n",
              "</style>\n",
              "<table border=\"1\" class=\"dataframe\">\n",
              "  <thead>\n",
              "    <tr style=\"text-align: right;\">\n",
              "      <th></th>\n",
              "      <th>0</th>\n",
              "      <th>1</th>\n",
              "      <th>2</th>\n",
              "      <th>3</th>\n",
              "      <th>4</th>\n",
              "      <th>5</th>\n",
              "      <th>6</th>\n",
              "      <th>7</th>\n",
              "      <th>8</th>\n",
              "      <th>9</th>\n",
              "    </tr>\n",
              "  </thead>\n",
              "  <tbody>\n",
              "    <tr>\n",
              "      <th>0</th>\n",
              "      <td>0.001658</td>\n",
              "      <td>-0.000406</td>\n",
              "      <td>-0.010961</td>\n",
              "      <td>0.020298</td>\n",
              "      <td>0.000586</td>\n",
              "      <td>-0.002184</td>\n",
              "      <td>0.013548</td>\n",
              "      <td>-0.005970</td>\n",
              "      <td>0.005685</td>\n",
              "      <td>-0.005757</td>\n",
              "    </tr>\n",
              "    <tr>\n",
              "      <th>1</th>\n",
              "      <td>-0.010150</td>\n",
              "      <td>0.002036</td>\n",
              "      <td>0.005981</td>\n",
              "      <td>-0.001268</td>\n",
              "      <td>-0.008865</td>\n",
              "      <td>0.007323</td>\n",
              "      <td>0.003398</td>\n",
              "      <td>0.015828</td>\n",
              "      <td>0.016276</td>\n",
              "      <td>-0.021171</td>\n",
              "    </tr>\n",
              "    <tr>\n",
              "      <th>2</th>\n",
              "      <td>0.000715</td>\n",
              "      <td>0.001589</td>\n",
              "      <td>-0.001150</td>\n",
              "      <td>0.005298</td>\n",
              "      <td>-0.006007</td>\n",
              "      <td>0.014593</td>\n",
              "      <td>-0.016549</td>\n",
              "      <td>0.006111</td>\n",
              "      <td>0.004389</td>\n",
              "      <td>0.006673</td>\n",
              "    </tr>\n",
              "    <tr>\n",
              "      <th>3</th>\n",
              "      <td>-0.023813</td>\n",
              "      <td>0.002267</td>\n",
              "      <td>0.004229</td>\n",
              "      <td>0.007755</td>\n",
              "      <td>-0.012729</td>\n",
              "      <td>0.010484</td>\n",
              "      <td>-0.000616</td>\n",
              "      <td>-0.010604</td>\n",
              "      <td>0.008962</td>\n",
              "      <td>0.009225</td>\n",
              "    </tr>\n",
              "    <tr>\n",
              "      <th>4</th>\n",
              "      <td>-0.000748</td>\n",
              "      <td>0.008441</td>\n",
              "      <td>-0.001783</td>\n",
              "      <td>-0.003731</td>\n",
              "      <td>-0.016882</td>\n",
              "      <td>-0.011667</td>\n",
              "      <td>-0.013415</td>\n",
              "      <td>-0.013123</td>\n",
              "      <td>-0.015024</td>\n",
              "      <td>0.007147</td>\n",
              "    </tr>\n",
              "    <tr>\n",
              "      <th>5</th>\n",
              "      <td>-0.003553</td>\n",
              "      <td>0.005549</td>\n",
              "      <td>-0.007009</td>\n",
              "      <td>0.011124</td>\n",
              "      <td>0.004171</td>\n",
              "      <td>0.010067</td>\n",
              "      <td>-0.003269</td>\n",
              "      <td>-0.017244</td>\n",
              "      <td>-0.003866</td>\n",
              "      <td>-0.006944</td>\n",
              "    </tr>\n",
              "    <tr>\n",
              "      <th>6</th>\n",
              "      <td>0.010115</td>\n",
              "      <td>0.003357</td>\n",
              "      <td>0.007225</td>\n",
              "      <td>-0.010898</td>\n",
              "      <td>-0.005469</td>\n",
              "      <td>-0.005922</td>\n",
              "      <td>-0.015124</td>\n",
              "      <td>0.007749</td>\n",
              "      <td>-0.004396</td>\n",
              "      <td>0.018024</td>\n",
              "    </tr>\n",
              "    <tr>\n",
              "      <th>7</th>\n",
              "      <td>0.009012</td>\n",
              "      <td>0.019040</td>\n",
              "      <td>0.009301</td>\n",
              "      <td>0.005959</td>\n",
              "      <td>-0.002589</td>\n",
              "      <td>0.001694</td>\n",
              "      <td>0.025823</td>\n",
              "      <td>-0.001168</td>\n",
              "      <td>-0.005246</td>\n",
              "      <td>0.002411</td>\n",
              "    </tr>\n",
              "    <tr>\n",
              "      <th>8</th>\n",
              "      <td>0.005400</td>\n",
              "      <td>0.015464</td>\n",
              "      <td>0.016020</td>\n",
              "      <td>0.000176</td>\n",
              "      <td>-0.009932</td>\n",
              "      <td>0.010734</td>\n",
              "      <td>0.010707</td>\n",
              "      <td>-0.006187</td>\n",
              "      <td>-0.005361</td>\n",
              "      <td>0.002724</td>\n",
              "    </tr>\n",
              "    <tr>\n",
              "      <th>9</th>\n",
              "      <td>-0.000505</td>\n",
              "      <td>0.018541</td>\n",
              "      <td>-0.006445</td>\n",
              "      <td>-0.017326</td>\n",
              "      <td>0.003571</td>\n",
              "      <td>-0.006027</td>\n",
              "      <td>0.010663</td>\n",
              "      <td>-0.006283</td>\n",
              "      <td>0.002678</td>\n",
              "      <td>0.004928</td>\n",
              "    </tr>\n",
              "  </tbody>\n",
              "</table>\n",
              "</div>"
            ],
            "text/plain": [
              "          0         1         2         3         4         5         6  \\\n",
              "0  0.001658 -0.000406 -0.010961  0.020298  0.000586 -0.002184  0.013548   \n",
              "1 -0.010150  0.002036  0.005981 -0.001268 -0.008865  0.007323  0.003398   \n",
              "2  0.000715  0.001589 -0.001150  0.005298 -0.006007  0.014593 -0.016549   \n",
              "3 -0.023813  0.002267  0.004229  0.007755 -0.012729  0.010484 -0.000616   \n",
              "4 -0.000748  0.008441 -0.001783 -0.003731 -0.016882 -0.011667 -0.013415   \n",
              "5 -0.003553  0.005549 -0.007009  0.011124  0.004171  0.010067 -0.003269   \n",
              "6  0.010115  0.003357  0.007225 -0.010898 -0.005469 -0.005922 -0.015124   \n",
              "7  0.009012  0.019040  0.009301  0.005959 -0.002589  0.001694  0.025823   \n",
              "8  0.005400  0.015464  0.016020  0.000176 -0.009932  0.010734  0.010707   \n",
              "9 -0.000505  0.018541 -0.006445 -0.017326  0.003571 -0.006027  0.010663   \n",
              "\n",
              "          7         8         9  \n",
              "0 -0.005970  0.005685 -0.005757  \n",
              "1  0.015828  0.016276 -0.021171  \n",
              "2  0.006111  0.004389  0.006673  \n",
              "3 -0.010604  0.008962  0.009225  \n",
              "4 -0.013123 -0.015024  0.007147  \n",
              "5 -0.017244 -0.003866 -0.006944  \n",
              "6  0.007749 -0.004396  0.018024  \n",
              "7 -0.001168 -0.005246  0.002411  \n",
              "8 -0.006187 -0.005361  0.002724  \n",
              "9 -0.006283  0.002678  0.004928  "
            ]
          },
          "execution_count": 119,
          "metadata": {},
          "output_type": "execute_result"
        }
      ],
      "source": [
        "y = p2v_df.iloc[0:10, 0:10]\n",
        "print(type(y))\n",
        "y"
      ]
    },
    {
      "cell_type": "code",
      "execution_count": null,
      "metadata": {
        "tags": [],
        "id": "Pq-l0VUUSzop",
        "outputId": "677276b9-a49e-4c46-a125-ac34773d1b1f"
      },
      "outputs": [
        {
          "data": {
            "text/plain": [
              "array([[ 1.        ,  0.03524692, -0.2566709 ,  0.09355422, -0.28394142,\n",
              "         0.46067676, -0.7277936 ,  0.32557818, -0.07175939, -0.12094805],\n",
              "       [ 0.03524692,  1.        ,  0.12482536,  0.18926379, -0.474045  ,\n",
              "        -0.18277404, -0.37468982, -0.02881634,  0.03009968, -0.16165893],\n",
              "       [-0.2566709 ,  0.12482536,  1.0000001 ,  0.33627898,  0.05767971,\n",
              "         0.11826679,  0.36307377, -0.37526774,  0.00880689, -0.43106025],\n",
              "       [ 0.09355422,  0.18926379,  0.33627898,  0.9999998 ,  0.14690076,\n",
              "         0.31760508, -0.20779711, -0.05126385,  0.2374797 , -0.08249509],\n",
              "       [-0.28394142, -0.474045  ,  0.05767971,  0.14690076,  1.0000001 ,\n",
              "         0.12400796,  0.47834277, -0.0795783 ,  0.17243662,  0.17336534],\n",
              "       [ 0.46067676, -0.18277404,  0.11826679,  0.31760508,  0.12400796,\n",
              "         1.0000001 , -0.5569848 ,  0.02132572,  0.11911755, -0.07413369],\n",
              "       [-0.7277936 , -0.37468982,  0.36307377, -0.20779711,  0.47834277,\n",
              "        -0.5569848 ,  1.        , -0.15322435,  0.07739592,  0.08694208],\n",
              "       [ 0.32557818, -0.02881634, -0.37526774, -0.05126385, -0.0795783 ,\n",
              "         0.02132572, -0.15322435,  1.        ,  0.78591084,  0.41193813],\n",
              "       [-0.07175939,  0.03009968,  0.00880689,  0.2374797 ,  0.17243662,\n",
              "         0.11911755,  0.07739592,  0.78591084,  1.        ,  0.24863705],\n",
              "       [-0.12094805, -0.16165893, -0.43106025, -0.08249509,  0.17336534,\n",
              "        -0.07413369,  0.08694208,  0.41193813,  0.24863705,  0.9999999 ]],\n",
              "      dtype=float32)"
            ]
          },
          "execution_count": 120,
          "metadata": {},
          "output_type": "execute_result"
        }
      ],
      "source": [
        "from sklearn.metrics.pairwise import cosine_similarity\n",
        "sim = cosine_similarity(x, y)\n",
        "sim"
      ]
    },
    {
      "cell_type": "code",
      "execution_count": null,
      "metadata": {
        "tags": [],
        "id": "B2gLAdSVSzop",
        "outputId": "d403857a-3055-4492-b02b-4a7626c8b5b6"
      },
      "outputs": [
        {
          "name": "stdout",
          "output_type": "stream",
          "text": [
            "investigation characteristics biocomposites coa... -> antibacterial activity functionalized coatings ...\n",
            "surface modification coatings adjusted provide ... -> coatings ’ surface morphology phases studied us...\n",
            "coatings increase corrosion resistance reducing... -> contact angle results showed highly hydrophilic...\n",
            "fabricated polymer based bio composite coatings... -> antibacterial activity functionalized coatings ...\n",
            "coatings ’ surface morphology phases studied us... -> surface modification coatings adjusted provide ...\n",
            "wettability behavior coated samples also studie... -> antibacterial activity functionalized coatings ...\n",
            "antibacterial activity functionalized coatings ... -> investigation characteristics biocomposites coa...\n",
            "ftir results showed blending chi alg nanopartic... -> coatings increase corrosion resistance reducing...\n",
            "sem results demonstrated coating layers uniform... -> investigation characteristics biocomposites coa...\n",
            "contact angle results showed highly hydrophilic... -> coatings increase corrosion resistance reducing...\n"
          ]
        }
      ],
      "source": [
        "for row in range(sim.shape[0]):\n",
        "    src = p2v_df.iloc[[row]]['para'].to_string(index=False)\n",
        "    tmp = np.argsort(sim[row])\n",
        "    tgt = p2v_df.iloc[[tmp[0]]]['para'].to_string(index=False)\n",
        "    print(f'{src} -> {tgt}')"
      ]
    },
    {
      "cell_type": "code",
      "execution_count": null,
      "metadata": {
        "id": "8zXVJRkpSzoq"
      },
      "outputs": [],
      "source": []
    }
  ],
  "metadata": {
    "colab": {
      "provenance": [],
      "include_colab_link": true
    },
    "kernelspec": {
      "display_name": "Python 3 (ipykernel)",
      "language": "python",
      "name": "python3"
    },
    "language_info": {
      "codemirror_mode": {
        "name": "ipython",
        "version": 3
      },
      "file_extension": ".py",
      "mimetype": "text/x-python",
      "name": "python",
      "nbconvert_exporter": "python",
      "pygments_lexer": "ipython3",
      "version": "3.10.9"
    }
  },
  "nbformat": 4,
  "nbformat_minor": 0
}