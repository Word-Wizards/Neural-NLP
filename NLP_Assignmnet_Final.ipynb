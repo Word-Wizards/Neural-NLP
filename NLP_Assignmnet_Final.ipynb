{
  "cells": [
    {
      "cell_type": "markdown",
      "metadata": {
        "id": "view-in-github",
        "colab_type": "text"
      },
      "source": [
        "<a href=\"https://colab.research.google.com/github/Word-Wizards/Neural-NLP/blob/Word2Vac/NLP_Assignmnet_Final.ipynb\" target=\"_parent\"><img src=\"https://colab.research.google.com/assets/colab-badge.svg\" alt=\"Open In Colab\"/></a>"
      ]
    },
    {
      "cell_type": "code",
      "execution_count": 2,
      "metadata": {
        "id": "Alp2Ytd4bs1f",
        "colab": {
          "base_uri": "https://localhost:8080/"
        },
        "outputId": "06ff8c8e-aca2-4f8f-8da2-cbcc26630477"
      },
      "outputs": [
        {
          "output_type": "stream",
          "name": "stdout",
          "text": [
            "Drive already mounted at /content/gdrive; to attempt to forcibly remount, call drive.mount(\"/content/gdrive\", force_remount=True).\n"
          ]
        }
      ],
      "source": [
        "#mount my google drive\n",
        "from google.colab import drive\n",
        "drive.mount(\"/content/gdrive\")"
      ]
    },
    {
      "cell_type": "code",
      "execution_count": 3,
      "metadata": {
        "id": "blIfA0xydUuI"
      },
      "outputs": [],
      "source": [
        "import pandas as pd\n",
        "import os"
      ]
    },
    {
      "cell_type": "code",
      "execution_count": 4,
      "metadata": {
        "id": "gtKATjPXd0hJ"
      },
      "outputs": [],
      "source": [
        "df = pd.read_json('/content/gdrive/MyDrive/Data/dataset.gz', lines=True, compression='gzip')"
      ]
    },
    {
      "cell_type": "code",
      "execution_count": 5,
      "metadata": {
        "colab": {
          "base_uri": "https://localhost:8080/",
          "height": 206
        },
        "id": "Kron_5W7d_NP",
        "outputId": "7732b131-f5cd-45eb-e043-8e72694b3842"
      },
      "outputs": [
        {
          "output_type": "execute_result",
          "data": {
            "text/plain": [
              "          id      source version                     added  \\\n",
              "0  254721023  s2ag/valid      v1  2022-12-16T16:07:05.559Z   \n",
              "1  254200673  s2ag/valid      v1  2022-12-04T16:21:43.441Z   \n",
              "2  252643161  s2ag/valid      v1  2022-10-01T15:18:53.788Z   \n",
              "3  244852373  s2ag/valid      v1  2021-12-04T16:21:39.980Z   \n",
              "4  254774363  s2ag/valid      v1  2022-12-17T16:19:10.635Z   \n",
              "\n",
              "                    created                                               text  \n",
              "0  2022-12-14T00:00:00.000Z  Investigation Some Characteristics of Biocompo...  \n",
              "1  2022-12-02T00:00:00.000Z  Modelling Techniques for Conjunctive Water Man...  \n",
              "2  2022-12-01T00:00:00.000Z  Complete Targets Coverage in Energy Harvesting...  \n",
              "3  2022-12-01T00:00:00.000Z  Nonorthogonal Multiple Access Enabled Two-Way ...  \n",
              "4  2022-12-14T00:00:00.000Z  106 A CASE OF COMPLETE ATRIOVENTRICULAR BLOCK ...  "
            ],
            "text/html": [
              "\n",
              "  <div id=\"df-23524cfb-bad2-4ecc-8f76-740b13f09c2e\" class=\"colab-df-container\">\n",
              "    <div>\n",
              "<style scoped>\n",
              "    .dataframe tbody tr th:only-of-type {\n",
              "        vertical-align: middle;\n",
              "    }\n",
              "\n",
              "    .dataframe tbody tr th {\n",
              "        vertical-align: top;\n",
              "    }\n",
              "\n",
              "    .dataframe thead th {\n",
              "        text-align: right;\n",
              "    }\n",
              "</style>\n",
              "<table border=\"1\" class=\"dataframe\">\n",
              "  <thead>\n",
              "    <tr style=\"text-align: right;\">\n",
              "      <th></th>\n",
              "      <th>id</th>\n",
              "      <th>source</th>\n",
              "      <th>version</th>\n",
              "      <th>added</th>\n",
              "      <th>created</th>\n",
              "      <th>text</th>\n",
              "    </tr>\n",
              "  </thead>\n",
              "  <tbody>\n",
              "    <tr>\n",
              "      <th>0</th>\n",
              "      <td>254721023</td>\n",
              "      <td>s2ag/valid</td>\n",
              "      <td>v1</td>\n",
              "      <td>2022-12-16T16:07:05.559Z</td>\n",
              "      <td>2022-12-14T00:00:00.000Z</td>\n",
              "      <td>Investigation Some Characteristics of Biocompo...</td>\n",
              "    </tr>\n",
              "    <tr>\n",
              "      <th>1</th>\n",
              "      <td>254200673</td>\n",
              "      <td>s2ag/valid</td>\n",
              "      <td>v1</td>\n",
              "      <td>2022-12-04T16:21:43.441Z</td>\n",
              "      <td>2022-12-02T00:00:00.000Z</td>\n",
              "      <td>Modelling Techniques for Conjunctive Water Man...</td>\n",
              "    </tr>\n",
              "    <tr>\n",
              "      <th>2</th>\n",
              "      <td>252643161</td>\n",
              "      <td>s2ag/valid</td>\n",
              "      <td>v1</td>\n",
              "      <td>2022-10-01T15:18:53.788Z</td>\n",
              "      <td>2022-12-01T00:00:00.000Z</td>\n",
              "      <td>Complete Targets Coverage in Energy Harvesting...</td>\n",
              "    </tr>\n",
              "    <tr>\n",
              "      <th>3</th>\n",
              "      <td>244852373</td>\n",
              "      <td>s2ag/valid</td>\n",
              "      <td>v1</td>\n",
              "      <td>2021-12-04T16:21:39.980Z</td>\n",
              "      <td>2022-12-01T00:00:00.000Z</td>\n",
              "      <td>Nonorthogonal Multiple Access Enabled Two-Way ...</td>\n",
              "    </tr>\n",
              "    <tr>\n",
              "      <th>4</th>\n",
              "      <td>254774363</td>\n",
              "      <td>s2ag/valid</td>\n",
              "      <td>v1</td>\n",
              "      <td>2022-12-17T16:19:10.635Z</td>\n",
              "      <td>2022-12-14T00:00:00.000Z</td>\n",
              "      <td>106 A CASE OF COMPLETE ATRIOVENTRICULAR BLOCK ...</td>\n",
              "    </tr>\n",
              "  </tbody>\n",
              "</table>\n",
              "</div>\n",
              "    <div class=\"colab-df-buttons\">\n",
              "\n",
              "  <div class=\"colab-df-container\">\n",
              "    <button class=\"colab-df-convert\" onclick=\"convertToInteractive('df-23524cfb-bad2-4ecc-8f76-740b13f09c2e')\"\n",
              "            title=\"Convert this dataframe to an interactive table.\"\n",
              "            style=\"display:none;\">\n",
              "\n",
              "  <svg xmlns=\"http://www.w3.org/2000/svg\" height=\"24px\" viewBox=\"0 -960 960 960\">\n",
              "    <path d=\"M120-120v-720h720v720H120Zm60-500h600v-160H180v160Zm220 220h160v-160H400v160Zm0 220h160v-160H400v160ZM180-400h160v-160H180v160Zm440 0h160v-160H620v160ZM180-180h160v-160H180v160Zm440 0h160v-160H620v160Z\"/>\n",
              "  </svg>\n",
              "    </button>\n",
              "\n",
              "  <style>\n",
              "    .colab-df-container {\n",
              "      display:flex;\n",
              "      gap: 12px;\n",
              "    }\n",
              "\n",
              "    .colab-df-convert {\n",
              "      background-color: #E8F0FE;\n",
              "      border: none;\n",
              "      border-radius: 50%;\n",
              "      cursor: pointer;\n",
              "      display: none;\n",
              "      fill: #1967D2;\n",
              "      height: 32px;\n",
              "      padding: 0 0 0 0;\n",
              "      width: 32px;\n",
              "    }\n",
              "\n",
              "    .colab-df-convert:hover {\n",
              "      background-color: #E2EBFA;\n",
              "      box-shadow: 0px 1px 2px rgba(60, 64, 67, 0.3), 0px 1px 3px 1px rgba(60, 64, 67, 0.15);\n",
              "      fill: #174EA6;\n",
              "    }\n",
              "\n",
              "    .colab-df-buttons div {\n",
              "      margin-bottom: 4px;\n",
              "    }\n",
              "\n",
              "    [theme=dark] .colab-df-convert {\n",
              "      background-color: #3B4455;\n",
              "      fill: #D2E3FC;\n",
              "    }\n",
              "\n",
              "    [theme=dark] .colab-df-convert:hover {\n",
              "      background-color: #434B5C;\n",
              "      box-shadow: 0px 1px 3px 1px rgba(0, 0, 0, 0.15);\n",
              "      filter: drop-shadow(0px 1px 2px rgba(0, 0, 0, 0.3));\n",
              "      fill: #FFFFFF;\n",
              "    }\n",
              "  </style>\n",
              "\n",
              "    <script>\n",
              "      const buttonEl =\n",
              "        document.querySelector('#df-23524cfb-bad2-4ecc-8f76-740b13f09c2e button.colab-df-convert');\n",
              "      buttonEl.style.display =\n",
              "        google.colab.kernel.accessAllowed ? 'block' : 'none';\n",
              "\n",
              "      async function convertToInteractive(key) {\n",
              "        const element = document.querySelector('#df-23524cfb-bad2-4ecc-8f76-740b13f09c2e');\n",
              "        const dataTable =\n",
              "          await google.colab.kernel.invokeFunction('convertToInteractive',\n",
              "                                                    [key], {});\n",
              "        if (!dataTable) return;\n",
              "\n",
              "        const docLinkHtml = 'Like what you see? Visit the ' +\n",
              "          '<a target=\"_blank\" href=https://colab.research.google.com/notebooks/data_table.ipynb>data table notebook</a>'\n",
              "          + ' to learn more about interactive tables.';\n",
              "        element.innerHTML = '';\n",
              "        dataTable['output_type'] = 'display_data';\n",
              "        await google.colab.output.renderOutput(dataTable, element);\n",
              "        const docLink = document.createElement('div');\n",
              "        docLink.innerHTML = docLinkHtml;\n",
              "        element.appendChild(docLink);\n",
              "      }\n",
              "    </script>\n",
              "  </div>\n",
              "\n",
              "\n",
              "<div id=\"df-7c30783d-af9f-4ce2-9ea7-39684b62b91d\">\n",
              "  <button class=\"colab-df-quickchart\" onclick=\"quickchart('df-7c30783d-af9f-4ce2-9ea7-39684b62b91d')\"\n",
              "            title=\"Suggest charts.\"\n",
              "            style=\"display:none;\">\n",
              "\n",
              "<svg xmlns=\"http://www.w3.org/2000/svg\" height=\"24px\"viewBox=\"0 0 24 24\"\n",
              "     width=\"24px\">\n",
              "    <g>\n",
              "        <path d=\"M19 3H5c-1.1 0-2 .9-2 2v14c0 1.1.9 2 2 2h14c1.1 0 2-.9 2-2V5c0-1.1-.9-2-2-2zM9 17H7v-7h2v7zm4 0h-2V7h2v10zm4 0h-2v-4h2v4z\"/>\n",
              "    </g>\n",
              "</svg>\n",
              "  </button>\n",
              "\n",
              "<style>\n",
              "  .colab-df-quickchart {\n",
              "      --bg-color: #E8F0FE;\n",
              "      --fill-color: #1967D2;\n",
              "      --hover-bg-color: #E2EBFA;\n",
              "      --hover-fill-color: #174EA6;\n",
              "      --disabled-fill-color: #AAA;\n",
              "      --disabled-bg-color: #DDD;\n",
              "  }\n",
              "\n",
              "  [theme=dark] .colab-df-quickchart {\n",
              "      --bg-color: #3B4455;\n",
              "      --fill-color: #D2E3FC;\n",
              "      --hover-bg-color: #434B5C;\n",
              "      --hover-fill-color: #FFFFFF;\n",
              "      --disabled-bg-color: #3B4455;\n",
              "      --disabled-fill-color: #666;\n",
              "  }\n",
              "\n",
              "  .colab-df-quickchart {\n",
              "    background-color: var(--bg-color);\n",
              "    border: none;\n",
              "    border-radius: 50%;\n",
              "    cursor: pointer;\n",
              "    display: none;\n",
              "    fill: var(--fill-color);\n",
              "    height: 32px;\n",
              "    padding: 0;\n",
              "    width: 32px;\n",
              "  }\n",
              "\n",
              "  .colab-df-quickchart:hover {\n",
              "    background-color: var(--hover-bg-color);\n",
              "    box-shadow: 0 1px 2px rgba(60, 64, 67, 0.3), 0 1px 3px 1px rgba(60, 64, 67, 0.15);\n",
              "    fill: var(--button-hover-fill-color);\n",
              "  }\n",
              "\n",
              "  .colab-df-quickchart-complete:disabled,\n",
              "  .colab-df-quickchart-complete:disabled:hover {\n",
              "    background-color: var(--disabled-bg-color);\n",
              "    fill: var(--disabled-fill-color);\n",
              "    box-shadow: none;\n",
              "  }\n",
              "\n",
              "  .colab-df-spinner {\n",
              "    border: 2px solid var(--fill-color);\n",
              "    border-color: transparent;\n",
              "    border-bottom-color: var(--fill-color);\n",
              "    animation:\n",
              "      spin 1s steps(1) infinite;\n",
              "  }\n",
              "\n",
              "  @keyframes spin {\n",
              "    0% {\n",
              "      border-color: transparent;\n",
              "      border-bottom-color: var(--fill-color);\n",
              "      border-left-color: var(--fill-color);\n",
              "    }\n",
              "    20% {\n",
              "      border-color: transparent;\n",
              "      border-left-color: var(--fill-color);\n",
              "      border-top-color: var(--fill-color);\n",
              "    }\n",
              "    30% {\n",
              "      border-color: transparent;\n",
              "      border-left-color: var(--fill-color);\n",
              "      border-top-color: var(--fill-color);\n",
              "      border-right-color: var(--fill-color);\n",
              "    }\n",
              "    40% {\n",
              "      border-color: transparent;\n",
              "      border-right-color: var(--fill-color);\n",
              "      border-top-color: var(--fill-color);\n",
              "    }\n",
              "    60% {\n",
              "      border-color: transparent;\n",
              "      border-right-color: var(--fill-color);\n",
              "    }\n",
              "    80% {\n",
              "      border-color: transparent;\n",
              "      border-right-color: var(--fill-color);\n",
              "      border-bottom-color: var(--fill-color);\n",
              "    }\n",
              "    90% {\n",
              "      border-color: transparent;\n",
              "      border-bottom-color: var(--fill-color);\n",
              "    }\n",
              "  }\n",
              "</style>\n",
              "\n",
              "  <script>\n",
              "    async function quickchart(key) {\n",
              "      const quickchartButtonEl =\n",
              "        document.querySelector('#' + key + ' button');\n",
              "      quickchartButtonEl.disabled = true;  // To prevent multiple clicks.\n",
              "      quickchartButtonEl.classList.add('colab-df-spinner');\n",
              "      try {\n",
              "        const charts = await google.colab.kernel.invokeFunction(\n",
              "            'suggestCharts', [key], {});\n",
              "      } catch (error) {\n",
              "        console.error('Error during call to suggestCharts:', error);\n",
              "      }\n",
              "      quickchartButtonEl.classList.remove('colab-df-spinner');\n",
              "      quickchartButtonEl.classList.add('colab-df-quickchart-complete');\n",
              "    }\n",
              "    (() => {\n",
              "      let quickchartButtonEl =\n",
              "        document.querySelector('#df-7c30783d-af9f-4ce2-9ea7-39684b62b91d button');\n",
              "      quickchartButtonEl.style.display =\n",
              "        google.colab.kernel.accessAllowed ? 'block' : 'none';\n",
              "    })();\n",
              "  </script>\n",
              "</div>\n",
              "    </div>\n",
              "  </div>\n"
            ]
          },
          "metadata": {},
          "execution_count": 5
        }
      ],
      "source": [
        "df.head()"
      ]
    },
    {
      "cell_type": "code",
      "execution_count": 6,
      "metadata": {
        "id": "GWBZdvvGGS9-"
      },
      "outputs": [],
      "source": [
        "df_train=df[:3000]\n"
      ]
    },
    {
      "cell_type": "code",
      "execution_count": 7,
      "metadata": {
        "colab": {
          "base_uri": "https://localhost:8080/"
        },
        "id": "j1S6Yb98Ga7-",
        "outputId": "1398b455-4310-45ed-f53e-69e6f5ab54bb"
      },
      "outputs": [
        {
          "output_type": "execute_result",
          "data": {
            "text/plain": [
              "(3000, 6)"
            ]
          },
          "metadata": {},
          "execution_count": 7
        }
      ],
      "source": [
        "df_train.shape"
      ]
    },
    {
      "cell_type": "code",
      "execution_count": 8,
      "metadata": {
        "id": "OQvaUvWOGe1g"
      },
      "outputs": [],
      "source": [
        "df_test=df[3000:4000]"
      ]
    },
    {
      "cell_type": "code",
      "execution_count": 9,
      "metadata": {
        "colab": {
          "base_uri": "https://localhost:8080/"
        },
        "id": "qNLiAFRue1tB",
        "outputId": "9dfdbe44-99ca-48ce-a8e6-b3b738f68459"
      },
      "outputs": [
        {
          "output_type": "stream",
          "name": "stderr",
          "text": [
            "[nltk_data] Downloading package averaged_perceptron_tagger to\n",
            "[nltk_data]     /root/nltk_data...\n",
            "[nltk_data]   Package averaged_perceptron_tagger is already up-to-\n",
            "[nltk_data]       date!\n",
            "[nltk_data] Downloading package punkt to /root/nltk_data...\n",
            "[nltk_data]   Package punkt is already up-to-date!\n",
            "[nltk_data] Downloading package stopwords to /root/nltk_data...\n",
            "[nltk_data]   Package stopwords is already up-to-date!\n",
            "[nltk_data] Downloading package wordnet to /root/nltk_data...\n",
            "[nltk_data]   Package wordnet is already up-to-date!\n"
          ]
        },
        {
          "output_type": "execute_result",
          "data": {
            "text/plain": [
              "True"
            ]
          },
          "metadata": {},
          "execution_count": 9
        }
      ],
      "source": [
        "import re\n",
        "import string\n",
        "import pandas as pd\n",
        "import numpy as np\n",
        "import math\n",
        "from numpy import array\n",
        "import nltk\n",
        "from nltk.tokenize import word_tokenize\n",
        "from nltk.corpus import stopwords\n",
        "from sklearn.cluster import KMeans\n",
        "from collections import Counter\n",
        "from nltk.stem import WordNetLemmatizer\n",
        "from nltk import word_tokenize, pos_tag\n",
        "\n",
        "nltk.download('averaged_perceptron_tagger')\n",
        "nltk.download('punkt')\n",
        "nltk.download('stopwords')\n",
        "nltk.download('wordnet')"
      ]
    },
    {
      "cell_type": "code",
      "execution_count": 10,
      "metadata": {
        "colab": {
          "base_uri": "https://localhost:8080/"
        },
        "id": "kD-dbyOaG2jw",
        "outputId": "1d914e34-3adc-44a9-cfaa-6e5d7130aad6"
      },
      "outputs": [
        {
          "output_type": "execute_result",
          "data": {
            "text/plain": [
              "(1000, 6)"
            ]
          },
          "metadata": {},
          "execution_count": 10
        }
      ],
      "source": [
        "df_test.shape"
      ]
    },
    {
      "cell_type": "code",
      "source": [
        "import os\n",
        "import re\n",
        "import numpy as np\n",
        "from sklearn.feature_extraction.text import TfidfVectorizer\n",
        "from nltk.corpus import stopwords"
      ],
      "metadata": {
        "id": "T1CjPauci0Mi"
      },
      "execution_count": 11,
      "outputs": []
    },
    {
      "cell_type": "code",
      "source": [
        "# Initialize the TF-IDF vectorizer\n",
        "tfidf_vectorizer = TfidfVectorizer(lowercase=False, stop_words=stopwords.words('english'))"
      ],
      "metadata": {
        "id": "g7OU-kCCi0Mj"
      },
      "execution_count": 12,
      "outputs": []
    },
    {
      "cell_type": "code",
      "execution_count": 13,
      "metadata": {
        "id": "_DpUpeN7vyO3"
      },
      "outputs": [],
      "source": [
        "# Pre-processing function to apply the specified cleanup\n",
        "def preprocess_text(text):\n",
        "    # Remove URLs\n",
        "    text = re.sub(r'http\\S+', '', text)\n",
        "\n",
        "    # Remove bullets, enumerations, hyphens, and punctuation\n",
        "    text = re.sub(r'[\\•\\-\\d]+', ' ', text)\n",
        "    text = re.sub(r'[\\'\\\"\\,\\.\\!\\?\\:\\;\\(\\)\\[\\]\\{\\}\\<\\>]', ' ', text)\n",
        "\n",
        "    # Convert numerical values to text\n",
        "    text = re.sub(r'\\d+', lambda x: num2words(x.group()), text)\n",
        "\n",
        "    # Remove stopwords\n",
        "    stop_words = set(stopwords.words('english'))\n",
        "    words = word_tokenize(text.lower())\n",
        "    words = [word for word in words if word not in stop_words]\n",
        "\n",
        "    # Reconstruct sentences\n",
        "    text = \" \".join(words)\n",
        "\n",
        "    return text\n"
      ]
    },
    {
      "cell_type": "code",
      "execution_count": 14,
      "metadata": {
        "id": "IwIklakEKSI7"
      },
      "outputs": [],
      "source": [
        "data = [doc for doc in df_train['text'].tolist()]"
      ]
    },
    {
      "cell_type": "code",
      "execution_count": 15,
      "metadata": {
        "id": "D1f97i5zNLX5"
      },
      "outputs": [],
      "source": [
        "\n",
        "def preprocess_text1(text):\n",
        "    text = re.sub(r'\\d+' , '', text)\n",
        "    text = remove_punctuation(text)\n",
        "    text = text.lower()\n",
        "    text = text.strip()\n",
        "    text = re.sub(r'\\b\\w{1,2}\\b', '', text)\n",
        "    tokens = toknizing(text)\n",
        "    pos_map = {'J': 'a', 'N': 'n', 'R': 'r', 'V': 'v'}\n",
        "    pos_tags = pos_tag(tokens)\n",
        "    lemmatiser = WordNetLemmatizer()\n",
        "    tokens = [lemmatiser.lemmatize(t.lower(), pos=pos_map.get(p[0], 'v')) for t, p in pos_tags]\n",
        "    return tokens"
      ]
    },
    {
      "cell_type": "code",
      "execution_count": 16,
      "metadata": {
        "id": "gtFEiQxghDDT"
      },
      "outputs": [],
      "source": [
        "def remove_punctuation(text):\n",
        "     punctuations = '''!()-[]{};:'\"\\,<>./?@#$%^+&*_~'''\n",
        "     no_punct = \"\"\n",
        "     for char in text:\n",
        "        if char not in punctuations:\n",
        "            no_punct = no_punct + char\n",
        "     return no_punct"
      ]
    },
    {
      "cell_type": "code",
      "execution_count": 17,
      "metadata": {
        "id": "ZmUv8ltHhKyF"
      },
      "outputs": [],
      "source": [
        "def toknizing(text):\n",
        "  stop_words = set(stopwords.words('english'))\n",
        "  tokens = word_tokenize(text)\n",
        "  result = [i for i in tokens if not i in stop_words]\n",
        "  return result"
      ]
    },
    {
      "cell_type": "code",
      "execution_count": 18,
      "metadata": {
        "id": "A6ZnoACKNQnc"
      },
      "outputs": [],
      "source": [
        "train_sentences = [preprocess_text1(doc) for doc in df_train['text'].tolist()]\n",
        "test_sentences = [preprocess_text1(doc) for doc in df_test['text'].tolist()]"
      ]
    },
    {
      "cell_type": "markdown",
      "source": [],
      "metadata": {
        "id": "AWt44LTKQ61v"
      }
    },
    {
      "cell_type": "markdown",
      "source": [
        "#returning sentences instead of tokens"
      ],
      "metadata": {
        "id": "-iw-QTm9Q6_q"
      }
    },
    {
      "cell_type": "code",
      "source": [
        "# Tokenize and preprocess the documents into sentences\n",
        "def tokenize_and_preprocess(document):\n",
        "    sentences = re.split(r'(?<!\\w\\.\\w.)(?<![A-Z][a-z]\\.)(?<=\\.|\\?|\\!)\\s', document)\n",
        "    sentences = [preprocess_text(sentence) for sentence in sentences if sentence.strip()]\n",
        "    return sentences"
      ],
      "metadata": {
        "id": "8wf-rZAXRIeF"
      },
      "execution_count": 19,
      "outputs": []
    },
    {
      "cell_type": "code",
      "source": [
        "train_sentences = [tokenize_and_preprocess(doc) for doc in df_train['text'].tolist()]\n",
        "test_sentences = [tokenize_and_preprocess(doc) for doc in df_test['text'].tolist()]"
      ],
      "metadata": {
        "id": "YEBIj3kcZcmv"
      },
      "execution_count": 20,
      "outputs": []
    },
    {
      "cell_type": "code",
      "source": [
        "train_sentences[0]"
      ],
      "metadata": {
        "id": "T9cBNPLKeFEj",
        "outputId": "4ebd23df-9b99-44ad-e54d-10a09454df55",
        "colab": {
          "base_uri": "https://localhost:8080/"
        }
      },
      "execution_count": 21,
      "outputs": [
        {
          "output_type": "execute_result",
          "data": {
            "text/plain": [
              "['investigation characteristics biocomposites coating biomedical implants surface vital function tissue response presence foreign material field body implants',\n",
              " 'surface modification coatings adjusted provide highest service performance lowest cost',\n",
              " 'coatings increase corrosion resistance reducing metal ion corrosion product migration body',\n",
              " 'fabricated polymer based bio composite coatings blending chitosan chi alginate alg nanoparticles tio nb dip coating onto l stainless steel substrate',\n",
              " 'coatings ’ surface morphology phases studied using fesem ftir analysis',\n",
              " 'wettability behavior coated samples also studied investigating contact wetting attributes',\n",
              " 'antibacterial activity functionalized coatings determined',\n",
              " 'ftir results showed blending chi alg nanoparticles excellent obvious differences spectra changes structures polymer matrices observed',\n",
              " 'sem results demonstrated coating layers uniform homogeneous crack free l stianless steel substrate using tio nb nano particles',\n",
              " 'contact angle results showed highly hydrophilic properties pure chitosan alginate blend',\n",
              " 'well coatings containing nano particles showed antibacterial effect chitosan alginate blend coating']"
            ]
          },
          "metadata": {},
          "execution_count": 21
        }
      ]
    },
    {
      "cell_type": "code",
      "source": [
        "combined_list = [item for sublist in train_sentences for item in sublist]"
      ],
      "metadata": {
        "id": "Pk7NV9z-hnBI"
      },
      "execution_count": 22,
      "outputs": []
    },
    {
      "cell_type": "code",
      "source": [
        "combined_list1 = [item for sublist in test_sentences for item in sublist]\n"
      ],
      "metadata": {
        "id": "cjAYRUJHByD4"
      },
      "execution_count": 23,
      "outputs": []
    },
    {
      "cell_type": "code",
      "source": [
        "combined_list[0]"
      ],
      "metadata": {
        "colab": {
          "base_uri": "https://localhost:8080/",
          "height": 35
        },
        "id": "StF-TZ5_iWfh",
        "outputId": "32e9b859-9f41-44fa-95cc-cc248a321327"
      },
      "execution_count": 24,
      "outputs": [
        {
          "output_type": "execute_result",
          "data": {
            "text/plain": [
              "'investigation characteristics biocomposites coating biomedical implants surface vital function tissue response presence foreign material field body implants'"
            ],
            "application/vnd.google.colaboratory.intrinsic+json": {
              "type": "string"
            }
          },
          "metadata": {},
          "execution_count": 24
        }
      ]
    },
    {
      "cell_type": "code",
      "source": [
        "len(combined_list)"
      ],
      "metadata": {
        "colab": {
          "base_uri": "https://localhost:8080/"
        },
        "id": "sAcPXEEFiZ7g",
        "outputId": "d191127b-3200-41ca-9974-00a3c5c95657"
      },
      "execution_count": 25,
      "outputs": [
        {
          "output_type": "execute_result",
          "data": {
            "text/plain": [
              "26747"
            ]
          },
          "metadata": {},
          "execution_count": 25
        }
      ]
    },
    {
      "cell_type": "code",
      "source": [
        "!pip install num2words"
      ],
      "metadata": {
        "colab": {
          "base_uri": "https://localhost:8080/"
        },
        "id": "Ic2JGGlCBHVX",
        "outputId": "2177a9f1-6d3c-4504-d620-fdf80cf7e8db"
      },
      "execution_count": 26,
      "outputs": [
        {
          "output_type": "stream",
          "name": "stdout",
          "text": [
            "Requirement already satisfied: num2words in /usr/local/lib/python3.10/dist-packages (0.5.12)\n",
            "Requirement already satisfied: docopt>=0.6.2 in /usr/local/lib/python3.10/dist-packages (from num2words) (0.6.2)\n"
          ]
        }
      ]
    },
    {
      "cell_type": "code",
      "source": [
        "import os\n",
        "import re\n",
        "import numpy as np\n",
        "from sklearn.feature_extraction.text import TfidfVectorizer\n",
        "import spacy\n",
        "import re\n",
        "import numpy as np\n",
        "from sklearn.metrics.pairwise import cosine_similarity\n",
        "from num2words import num2words\n",
        "from sklearn.feature_extraction.text import TfidfVectorizer\n",
        "from gensim.models import Word2Vec\n",
        "\n",
        "# Load the SpaCy language model for English\n",
        "nlp = spacy.load('en_core_web_sm')\n",
        "\n",
        "from nltk.corpus import stopwords"
      ],
      "metadata": {
        "id": "bArocsvMbI0g"
      },
      "execution_count": 27,
      "outputs": []
    },
    {
      "cell_type": "code",
      "source": [
        "# Initialize the TF-IDF vectorizer\n",
        "tfidf_vectorizer = TfidfVectorizer(lowercase=False, stop_words=stopwords.words('english'))"
      ],
      "metadata": {
        "id": "dkI-AN9IbcgA"
      },
      "execution_count": 28,
      "outputs": []
    },
    {
      "cell_type": "code",
      "source": [
        "# TD-IDF Matrix\n",
        "X = tfidf_vectorizer.fit_transform(combined_list)\n",
        "\n",
        "# extracting feature names\n",
        "tfidf_tokens = tfidf_vectorizer.get_feature_names_out()"
      ],
      "metadata": {
        "id": "_axMkKMib2G9"
      },
      "execution_count": 29,
      "outputs": []
    },
    {
      "cell_type": "code",
      "source": [
        "# Create a TF-IDF vectorizer\n",
        "tfidf_vectorizer = TfidfVectorizer()\n",
        "tfidf_matrix = tfidf_vectorizer.fit_transform(combined_list)"
      ],
      "metadata": {
        "id": "rNRWRioI_20h"
      },
      "execution_count": 30,
      "outputs": []
    },
    {
      "cell_type": "code",
      "source": [
        "import pandas as pd\n",
        "\n",
        "result = pd.DataFrame(\n",
        "    data=X.toarray(),\n",
        "    index=[X for X in combined_list],\n",
        "    columns=tfidf_tokens\n",
        ")\n",
        "\n",
        "result"
      ],
      "metadata": {
        "colab": {
          "base_uri": "https://localhost:8080/",
          "height": 423
        },
        "id": "EQAzRFZajOwS",
        "outputId": "a07271c1-5aa9-4cc7-f7a9-ccc1beb6f60c"
      },
      "execution_count": 31,
      "outputs": [
        {
          "output_type": "execute_result",
          "data": {
            "text/plain": [
              "                                                    _group   aa  aaa  aacr  \\\n",
              "investigation characteristics biocomposites coa...     0.0  0.0  0.0   0.0   \n",
              "surface modification coatings adjusted provide ...     0.0  0.0  0.0   0.0   \n",
              "coatings increase corrosion resistance reducing...     0.0  0.0  0.0   0.0   \n",
              "fabricated polymer based bio composite coatings...     0.0  0.0  0.0   0.0   \n",
              "coatings ’ surface morphology phases studied us...     0.0  0.0  0.0   0.0   \n",
              "...                                                    ...  ...  ...   ...   \n",
              "negative significant correlation found e gfr ck...     0.0  0.0  0.0   0.0   \n",
              "additionally also significant correlations plas...     0.0  0.0  0.0   0.0   \n",
              "significant positive correlation also found pla...     0.0  0.0  0.0   0.0   \n",
              "conclusions significant correlation plasma ace ...     0.0  0.0  0.0   0.0   \n",
              "investigation revealed statistically significan...     0.0  0.0  0.0   0.0   \n",
              "\n",
              "                                                    aada  aapc  aaron  aas  \\\n",
              "investigation characteristics biocomposites coa...   0.0   0.0    0.0  0.0   \n",
              "surface modification coatings adjusted provide ...   0.0   0.0    0.0  0.0   \n",
              "coatings increase corrosion resistance reducing...   0.0   0.0    0.0  0.0   \n",
              "fabricated polymer based bio composite coatings...   0.0   0.0    0.0  0.0   \n",
              "coatings ’ surface morphology phases studied us...   0.0   0.0    0.0  0.0   \n",
              "...                                                  ...   ...    ...  ...   \n",
              "negative significant correlation found e gfr ck...   0.0   0.0    0.0  0.0   \n",
              "additionally also significant correlations plas...   0.0   0.0    0.0  0.0   \n",
              "significant positive correlation also found pla...   0.0   0.0    0.0  0.0   \n",
              "conclusions significant correlation plasma ace ...   0.0   0.0    0.0  0.0   \n",
              "investigation revealed statistically significan...   0.0   0.0    0.0  0.0   \n",
              "\n",
              "                                                    aats  aav  ...  ﬁnal  ﬁnd  \\\n",
              "investigation characteristics biocomposites coa...   0.0  0.0  ...   0.0  0.0   \n",
              "surface modification coatings adjusted provide ...   0.0  0.0  ...   0.0  0.0   \n",
              "coatings increase corrosion resistance reducing...   0.0  0.0  ...   0.0  0.0   \n",
              "fabricated polymer based bio composite coatings...   0.0  0.0  ...   0.0  0.0   \n",
              "coatings ’ surface morphology phases studied us...   0.0  0.0  ...   0.0  0.0   \n",
              "...                                                  ...  ...  ...   ...  ...   \n",
              "negative significant correlation found e gfr ck...   0.0  0.0  ...   0.0  0.0   \n",
              "additionally also significant correlations plas...   0.0  0.0  ...   0.0  0.0   \n",
              "significant positive correlation also found pla...   0.0  0.0  ...   0.0  0.0   \n",
              "conclusions significant correlation plasma ace ...   0.0  0.0  ...   0.0  0.0   \n",
              "investigation revealed statistically significan...   0.0  0.0  ...   0.0  0.0   \n",
              "\n",
              "                                                    ﬁrst  ﬁxed  ﬁxes  ﬂight  \\\n",
              "investigation characteristics biocomposites coa...   0.0   0.0   0.0    0.0   \n",
              "surface modification coatings adjusted provide ...   0.0   0.0   0.0    0.0   \n",
              "coatings increase corrosion resistance reducing...   0.0   0.0   0.0    0.0   \n",
              "fabricated polymer based bio composite coatings...   0.0   0.0   0.0    0.0   \n",
              "coatings ’ surface morphology phases studied us...   0.0   0.0   0.0    0.0   \n",
              "...                                                  ...   ...   ...    ...   \n",
              "negative significant correlation found e gfr ck...   0.0   0.0   0.0    0.0   \n",
              "additionally also significant correlations plas...   0.0   0.0   0.0    0.0   \n",
              "significant positive correlation also found pla...   0.0   0.0   0.0    0.0   \n",
              "conclusions significant correlation plasma ace ...   0.0   0.0   0.0    0.0   \n",
              "investigation revealed statistically significan...   0.0   0.0   0.0    0.0   \n",
              "\n",
              "                                                    ﬂocks  ﬂow  ﬂuid   𝛿𝑡  \n",
              "investigation characteristics biocomposites coa...    0.0  0.0   0.0  0.0  \n",
              "surface modification coatings adjusted provide ...    0.0  0.0   0.0  0.0  \n",
              "coatings increase corrosion resistance reducing...    0.0  0.0   0.0  0.0  \n",
              "fabricated polymer based bio composite coatings...    0.0  0.0   0.0  0.0  \n",
              "coatings ’ surface morphology phases studied us...    0.0  0.0   0.0  0.0  \n",
              "...                                                   ...  ...   ...  ...  \n",
              "negative significant correlation found e gfr ck...    0.0  0.0   0.0  0.0  \n",
              "additionally also significant correlations plas...    0.0  0.0   0.0  0.0  \n",
              "significant positive correlation also found pla...    0.0  0.0   0.0  0.0  \n",
              "conclusions significant correlation plasma ace ...    0.0  0.0   0.0  0.0  \n",
              "investigation revealed statistically significan...    0.0  0.0   0.0  0.0  \n",
              "\n",
              "[26747 rows x 32053 columns]"
            ],
            "text/html": [
              "\n",
              "  <div id=\"df-5d021216-90c9-46c0-9c64-89e614628bcb\" class=\"colab-df-container\">\n",
              "    <div>\n",
              "<style scoped>\n",
              "    .dataframe tbody tr th:only-of-type {\n",
              "        vertical-align: middle;\n",
              "    }\n",
              "\n",
              "    .dataframe tbody tr th {\n",
              "        vertical-align: top;\n",
              "    }\n",
              "\n",
              "    .dataframe thead th {\n",
              "        text-align: right;\n",
              "    }\n",
              "</style>\n",
              "<table border=\"1\" class=\"dataframe\">\n",
              "  <thead>\n",
              "    <tr style=\"text-align: right;\">\n",
              "      <th></th>\n",
              "      <th>_group</th>\n",
              "      <th>aa</th>\n",
              "      <th>aaa</th>\n",
              "      <th>aacr</th>\n",
              "      <th>aada</th>\n",
              "      <th>aapc</th>\n",
              "      <th>aaron</th>\n",
              "      <th>aas</th>\n",
              "      <th>aats</th>\n",
              "      <th>aav</th>\n",
              "      <th>...</th>\n",
              "      <th>ﬁnal</th>\n",
              "      <th>ﬁnd</th>\n",
              "      <th>ﬁrst</th>\n",
              "      <th>ﬁxed</th>\n",
              "      <th>ﬁxes</th>\n",
              "      <th>ﬂight</th>\n",
              "      <th>ﬂocks</th>\n",
              "      <th>ﬂow</th>\n",
              "      <th>ﬂuid</th>\n",
              "      <th>𝛿𝑡</th>\n",
              "    </tr>\n",
              "  </thead>\n",
              "  <tbody>\n",
              "    <tr>\n",
              "      <th>investigation characteristics biocomposites coating biomedical implants surface vital function tissue response presence foreign material field body implants</th>\n",
              "      <td>0.0</td>\n",
              "      <td>0.0</td>\n",
              "      <td>0.0</td>\n",
              "      <td>0.0</td>\n",
              "      <td>0.0</td>\n",
              "      <td>0.0</td>\n",
              "      <td>0.0</td>\n",
              "      <td>0.0</td>\n",
              "      <td>0.0</td>\n",
              "      <td>0.0</td>\n",
              "      <td>...</td>\n",
              "      <td>0.0</td>\n",
              "      <td>0.0</td>\n",
              "      <td>0.0</td>\n",
              "      <td>0.0</td>\n",
              "      <td>0.0</td>\n",
              "      <td>0.0</td>\n",
              "      <td>0.0</td>\n",
              "      <td>0.0</td>\n",
              "      <td>0.0</td>\n",
              "      <td>0.0</td>\n",
              "    </tr>\n",
              "    <tr>\n",
              "      <th>surface modification coatings adjusted provide highest service performance lowest cost</th>\n",
              "      <td>0.0</td>\n",
              "      <td>0.0</td>\n",
              "      <td>0.0</td>\n",
              "      <td>0.0</td>\n",
              "      <td>0.0</td>\n",
              "      <td>0.0</td>\n",
              "      <td>0.0</td>\n",
              "      <td>0.0</td>\n",
              "      <td>0.0</td>\n",
              "      <td>0.0</td>\n",
              "      <td>...</td>\n",
              "      <td>0.0</td>\n",
              "      <td>0.0</td>\n",
              "      <td>0.0</td>\n",
              "      <td>0.0</td>\n",
              "      <td>0.0</td>\n",
              "      <td>0.0</td>\n",
              "      <td>0.0</td>\n",
              "      <td>0.0</td>\n",
              "      <td>0.0</td>\n",
              "      <td>0.0</td>\n",
              "    </tr>\n",
              "    <tr>\n",
              "      <th>coatings increase corrosion resistance reducing metal ion corrosion product migration body</th>\n",
              "      <td>0.0</td>\n",
              "      <td>0.0</td>\n",
              "      <td>0.0</td>\n",
              "      <td>0.0</td>\n",
              "      <td>0.0</td>\n",
              "      <td>0.0</td>\n",
              "      <td>0.0</td>\n",
              "      <td>0.0</td>\n",
              "      <td>0.0</td>\n",
              "      <td>0.0</td>\n",
              "      <td>...</td>\n",
              "      <td>0.0</td>\n",
              "      <td>0.0</td>\n",
              "      <td>0.0</td>\n",
              "      <td>0.0</td>\n",
              "      <td>0.0</td>\n",
              "      <td>0.0</td>\n",
              "      <td>0.0</td>\n",
              "      <td>0.0</td>\n",
              "      <td>0.0</td>\n",
              "      <td>0.0</td>\n",
              "    </tr>\n",
              "    <tr>\n",
              "      <th>fabricated polymer based bio composite coatings blending chitosan chi alginate alg nanoparticles tio nb dip coating onto l stainless steel substrate</th>\n",
              "      <td>0.0</td>\n",
              "      <td>0.0</td>\n",
              "      <td>0.0</td>\n",
              "      <td>0.0</td>\n",
              "      <td>0.0</td>\n",
              "      <td>0.0</td>\n",
              "      <td>0.0</td>\n",
              "      <td>0.0</td>\n",
              "      <td>0.0</td>\n",
              "      <td>0.0</td>\n",
              "      <td>...</td>\n",
              "      <td>0.0</td>\n",
              "      <td>0.0</td>\n",
              "      <td>0.0</td>\n",
              "      <td>0.0</td>\n",
              "      <td>0.0</td>\n",
              "      <td>0.0</td>\n",
              "      <td>0.0</td>\n",
              "      <td>0.0</td>\n",
              "      <td>0.0</td>\n",
              "      <td>0.0</td>\n",
              "    </tr>\n",
              "    <tr>\n",
              "      <th>coatings ’ surface morphology phases studied using fesem ftir analysis</th>\n",
              "      <td>0.0</td>\n",
              "      <td>0.0</td>\n",
              "      <td>0.0</td>\n",
              "      <td>0.0</td>\n",
              "      <td>0.0</td>\n",
              "      <td>0.0</td>\n",
              "      <td>0.0</td>\n",
              "      <td>0.0</td>\n",
              "      <td>0.0</td>\n",
              "      <td>0.0</td>\n",
              "      <td>...</td>\n",
              "      <td>0.0</td>\n",
              "      <td>0.0</td>\n",
              "      <td>0.0</td>\n",
              "      <td>0.0</td>\n",
              "      <td>0.0</td>\n",
              "      <td>0.0</td>\n",
              "      <td>0.0</td>\n",
              "      <td>0.0</td>\n",
              "      <td>0.0</td>\n",
              "      <td>0.0</td>\n",
              "    </tr>\n",
              "    <tr>\n",
              "      <th>...</th>\n",
              "      <td>...</td>\n",
              "      <td>...</td>\n",
              "      <td>...</td>\n",
              "      <td>...</td>\n",
              "      <td>...</td>\n",
              "      <td>...</td>\n",
              "      <td>...</td>\n",
              "      <td>...</td>\n",
              "      <td>...</td>\n",
              "      <td>...</td>\n",
              "      <td>...</td>\n",
              "      <td>...</td>\n",
              "      <td>...</td>\n",
              "      <td>...</td>\n",
              "      <td>...</td>\n",
              "      <td>...</td>\n",
              "      <td>...</td>\n",
              "      <td>...</td>\n",
              "      <td>...</td>\n",
              "      <td>...</td>\n",
              "      <td>...</td>\n",
              "    </tr>\n",
              "    <tr>\n",
              "      <th>negative significant correlation found e gfr ckd prognosis p</th>\n",
              "      <td>0.0</td>\n",
              "      <td>0.0</td>\n",
              "      <td>0.0</td>\n",
              "      <td>0.0</td>\n",
              "      <td>0.0</td>\n",
              "      <td>0.0</td>\n",
              "      <td>0.0</td>\n",
              "      <td>0.0</td>\n",
              "      <td>0.0</td>\n",
              "      <td>0.0</td>\n",
              "      <td>...</td>\n",
              "      <td>0.0</td>\n",
              "      <td>0.0</td>\n",
              "      <td>0.0</td>\n",
              "      <td>0.0</td>\n",
              "      <td>0.0</td>\n",
              "      <td>0.0</td>\n",
              "      <td>0.0</td>\n",
              "      <td>0.0</td>\n",
              "      <td>0.0</td>\n",
              "      <td>0.0</td>\n",
              "    </tr>\n",
              "    <tr>\n",
              "      <th>additionally also significant correlations plasma ace il ckd prognosis p = r = p = r = respectively</th>\n",
              "      <td>0.0</td>\n",
              "      <td>0.0</td>\n",
              "      <td>0.0</td>\n",
              "      <td>0.0</td>\n",
              "      <td>0.0</td>\n",
              "      <td>0.0</td>\n",
              "      <td>0.0</td>\n",
              "      <td>0.0</td>\n",
              "      <td>0.0</td>\n",
              "      <td>0.0</td>\n",
              "      <td>...</td>\n",
              "      <td>0.0</td>\n",
              "      <td>0.0</td>\n",
              "      <td>0.0</td>\n",
              "      <td>0.0</td>\n",
              "      <td>0.0</td>\n",
              "      <td>0.0</td>\n",
              "      <td>0.0</td>\n",
              "      <td>0.0</td>\n",
              "      <td>0.0</td>\n",
              "      <td>0.0</td>\n",
              "    </tr>\n",
              "    <tr>\n",
              "      <th>significant positive correlation also found plasma ace il p = r =</th>\n",
              "      <td>0.0</td>\n",
              "      <td>0.0</td>\n",
              "      <td>0.0</td>\n",
              "      <td>0.0</td>\n",
              "      <td>0.0</td>\n",
              "      <td>0.0</td>\n",
              "      <td>0.0</td>\n",
              "      <td>0.0</td>\n",
              "      <td>0.0</td>\n",
              "      <td>0.0</td>\n",
              "      <td>...</td>\n",
              "      <td>0.0</td>\n",
              "      <td>0.0</td>\n",
              "      <td>0.0</td>\n",
              "      <td>0.0</td>\n",
              "      <td>0.0</td>\n",
              "      <td>0.0</td>\n",
              "      <td>0.0</td>\n",
              "      <td>0.0</td>\n",
              "      <td>0.0</td>\n",
              "      <td>0.0</td>\n",
              "    </tr>\n",
              "    <tr>\n",
              "      <th>conclusions significant correlation plasma ace il levels ckd prognosis</th>\n",
              "      <td>0.0</td>\n",
              "      <td>0.0</td>\n",
              "      <td>0.0</td>\n",
              "      <td>0.0</td>\n",
              "      <td>0.0</td>\n",
              "      <td>0.0</td>\n",
              "      <td>0.0</td>\n",
              "      <td>0.0</td>\n",
              "      <td>0.0</td>\n",
              "      <td>0.0</td>\n",
              "      <td>...</td>\n",
              "      <td>0.0</td>\n",
              "      <td>0.0</td>\n",
              "      <td>0.0</td>\n",
              "      <td>0.0</td>\n",
              "      <td>0.0</td>\n",
              "      <td>0.0</td>\n",
              "      <td>0.0</td>\n",
              "      <td>0.0</td>\n",
              "      <td>0.0</td>\n",
              "      <td>0.0</td>\n",
              "    </tr>\n",
              "    <tr>\n",
              "      <th>investigation revealed statistically significant positive relationship plasma ace il levels</th>\n",
              "      <td>0.0</td>\n",
              "      <td>0.0</td>\n",
              "      <td>0.0</td>\n",
              "      <td>0.0</td>\n",
              "      <td>0.0</td>\n",
              "      <td>0.0</td>\n",
              "      <td>0.0</td>\n",
              "      <td>0.0</td>\n",
              "      <td>0.0</td>\n",
              "      <td>0.0</td>\n",
              "      <td>...</td>\n",
              "      <td>0.0</td>\n",
              "      <td>0.0</td>\n",
              "      <td>0.0</td>\n",
              "      <td>0.0</td>\n",
              "      <td>0.0</td>\n",
              "      <td>0.0</td>\n",
              "      <td>0.0</td>\n",
              "      <td>0.0</td>\n",
              "      <td>0.0</td>\n",
              "      <td>0.0</td>\n",
              "    </tr>\n",
              "  </tbody>\n",
              "</table>\n",
              "<p>26747 rows × 32053 columns</p>\n",
              "</div>\n",
              "    <div class=\"colab-df-buttons\">\n",
              "\n",
              "  <div class=\"colab-df-container\">\n",
              "    <button class=\"colab-df-convert\" onclick=\"convertToInteractive('df-5d021216-90c9-46c0-9c64-89e614628bcb')\"\n",
              "            title=\"Convert this dataframe to an interactive table.\"\n",
              "            style=\"display:none;\">\n",
              "\n",
              "  <svg xmlns=\"http://www.w3.org/2000/svg\" height=\"24px\" viewBox=\"0 -960 960 960\">\n",
              "    <path d=\"M120-120v-720h720v720H120Zm60-500h600v-160H180v160Zm220 220h160v-160H400v160Zm0 220h160v-160H400v160ZM180-400h160v-160H180v160Zm440 0h160v-160H620v160ZM180-180h160v-160H180v160Zm440 0h160v-160H620v160Z\"/>\n",
              "  </svg>\n",
              "    </button>\n",
              "\n",
              "  <style>\n",
              "    .colab-df-container {\n",
              "      display:flex;\n",
              "      gap: 12px;\n",
              "    }\n",
              "\n",
              "    .colab-df-convert {\n",
              "      background-color: #E8F0FE;\n",
              "      border: none;\n",
              "      border-radius: 50%;\n",
              "      cursor: pointer;\n",
              "      display: none;\n",
              "      fill: #1967D2;\n",
              "      height: 32px;\n",
              "      padding: 0 0 0 0;\n",
              "      width: 32px;\n",
              "    }\n",
              "\n",
              "    .colab-df-convert:hover {\n",
              "      background-color: #E2EBFA;\n",
              "      box-shadow: 0px 1px 2px rgba(60, 64, 67, 0.3), 0px 1px 3px 1px rgba(60, 64, 67, 0.15);\n",
              "      fill: #174EA6;\n",
              "    }\n",
              "\n",
              "    .colab-df-buttons div {\n",
              "      margin-bottom: 4px;\n",
              "    }\n",
              "\n",
              "    [theme=dark] .colab-df-convert {\n",
              "      background-color: #3B4455;\n",
              "      fill: #D2E3FC;\n",
              "    }\n",
              "\n",
              "    [theme=dark] .colab-df-convert:hover {\n",
              "      background-color: #434B5C;\n",
              "      box-shadow: 0px 1px 3px 1px rgba(0, 0, 0, 0.15);\n",
              "      filter: drop-shadow(0px 1px 2px rgba(0, 0, 0, 0.3));\n",
              "      fill: #FFFFFF;\n",
              "    }\n",
              "  </style>\n",
              "\n",
              "    <script>\n",
              "      const buttonEl =\n",
              "        document.querySelector('#df-5d021216-90c9-46c0-9c64-89e614628bcb button.colab-df-convert');\n",
              "      buttonEl.style.display =\n",
              "        google.colab.kernel.accessAllowed ? 'block' : 'none';\n",
              "\n",
              "      async function convertToInteractive(key) {\n",
              "        const element = document.querySelector('#df-5d021216-90c9-46c0-9c64-89e614628bcb');\n",
              "        const dataTable =\n",
              "          await google.colab.kernel.invokeFunction('convertToInteractive',\n",
              "                                                    [key], {});\n",
              "        if (!dataTable) return;\n",
              "\n",
              "        const docLinkHtml = 'Like what you see? Visit the ' +\n",
              "          '<a target=\"_blank\" href=https://colab.research.google.com/notebooks/data_table.ipynb>data table notebook</a>'\n",
              "          + ' to learn more about interactive tables.';\n",
              "        element.innerHTML = '';\n",
              "        dataTable['output_type'] = 'display_data';\n",
              "        await google.colab.output.renderOutput(dataTable, element);\n",
              "        const docLink = document.createElement('div');\n",
              "        docLink.innerHTML = docLinkHtml;\n",
              "        element.appendChild(docLink);\n",
              "      }\n",
              "    </script>\n",
              "  </div>\n",
              "\n",
              "\n",
              "<div id=\"df-58d62ccb-fdad-43b4-9599-1b4cffe89aec\">\n",
              "  <button class=\"colab-df-quickchart\" onclick=\"quickchart('df-58d62ccb-fdad-43b4-9599-1b4cffe89aec')\"\n",
              "            title=\"Suggest charts.\"\n",
              "            style=\"display:none;\">\n",
              "\n",
              "<svg xmlns=\"http://www.w3.org/2000/svg\" height=\"24px\"viewBox=\"0 0 24 24\"\n",
              "     width=\"24px\">\n",
              "    <g>\n",
              "        <path d=\"M19 3H5c-1.1 0-2 .9-2 2v14c0 1.1.9 2 2 2h14c1.1 0 2-.9 2-2V5c0-1.1-.9-2-2-2zM9 17H7v-7h2v7zm4 0h-2V7h2v10zm4 0h-2v-4h2v4z\"/>\n",
              "    </g>\n",
              "</svg>\n",
              "  </button>\n",
              "\n",
              "<style>\n",
              "  .colab-df-quickchart {\n",
              "      --bg-color: #E8F0FE;\n",
              "      --fill-color: #1967D2;\n",
              "      --hover-bg-color: #E2EBFA;\n",
              "      --hover-fill-color: #174EA6;\n",
              "      --disabled-fill-color: #AAA;\n",
              "      --disabled-bg-color: #DDD;\n",
              "  }\n",
              "\n",
              "  [theme=dark] .colab-df-quickchart {\n",
              "      --bg-color: #3B4455;\n",
              "      --fill-color: #D2E3FC;\n",
              "      --hover-bg-color: #434B5C;\n",
              "      --hover-fill-color: #FFFFFF;\n",
              "      --disabled-bg-color: #3B4455;\n",
              "      --disabled-fill-color: #666;\n",
              "  }\n",
              "\n",
              "  .colab-df-quickchart {\n",
              "    background-color: var(--bg-color);\n",
              "    border: none;\n",
              "    border-radius: 50%;\n",
              "    cursor: pointer;\n",
              "    display: none;\n",
              "    fill: var(--fill-color);\n",
              "    height: 32px;\n",
              "    padding: 0;\n",
              "    width: 32px;\n",
              "  }\n",
              "\n",
              "  .colab-df-quickchart:hover {\n",
              "    background-color: var(--hover-bg-color);\n",
              "    box-shadow: 0 1px 2px rgba(60, 64, 67, 0.3), 0 1px 3px 1px rgba(60, 64, 67, 0.15);\n",
              "    fill: var(--button-hover-fill-color);\n",
              "  }\n",
              "\n",
              "  .colab-df-quickchart-complete:disabled,\n",
              "  .colab-df-quickchart-complete:disabled:hover {\n",
              "    background-color: var(--disabled-bg-color);\n",
              "    fill: var(--disabled-fill-color);\n",
              "    box-shadow: none;\n",
              "  }\n",
              "\n",
              "  .colab-df-spinner {\n",
              "    border: 2px solid var(--fill-color);\n",
              "    border-color: transparent;\n",
              "    border-bottom-color: var(--fill-color);\n",
              "    animation:\n",
              "      spin 1s steps(1) infinite;\n",
              "  }\n",
              "\n",
              "  @keyframes spin {\n",
              "    0% {\n",
              "      border-color: transparent;\n",
              "      border-bottom-color: var(--fill-color);\n",
              "      border-left-color: var(--fill-color);\n",
              "    }\n",
              "    20% {\n",
              "      border-color: transparent;\n",
              "      border-left-color: var(--fill-color);\n",
              "      border-top-color: var(--fill-color);\n",
              "    }\n",
              "    30% {\n",
              "      border-color: transparent;\n",
              "      border-left-color: var(--fill-color);\n",
              "      border-top-color: var(--fill-color);\n",
              "      border-right-color: var(--fill-color);\n",
              "    }\n",
              "    40% {\n",
              "      border-color: transparent;\n",
              "      border-right-color: var(--fill-color);\n",
              "      border-top-color: var(--fill-color);\n",
              "    }\n",
              "    60% {\n",
              "      border-color: transparent;\n",
              "      border-right-color: var(--fill-color);\n",
              "    }\n",
              "    80% {\n",
              "      border-color: transparent;\n",
              "      border-right-color: var(--fill-color);\n",
              "      border-bottom-color: var(--fill-color);\n",
              "    }\n",
              "    90% {\n",
              "      border-color: transparent;\n",
              "      border-bottom-color: var(--fill-color);\n",
              "    }\n",
              "  }\n",
              "</style>\n",
              "\n",
              "  <script>\n",
              "    async function quickchart(key) {\n",
              "      const quickchartButtonEl =\n",
              "        document.querySelector('#' + key + ' button');\n",
              "      quickchartButtonEl.disabled = true;  // To prevent multiple clicks.\n",
              "      quickchartButtonEl.classList.add('colab-df-spinner');\n",
              "      try {\n",
              "        const charts = await google.colab.kernel.invokeFunction(\n",
              "            'suggestCharts', [key], {});\n",
              "      } catch (error) {\n",
              "        console.error('Error during call to suggestCharts:', error);\n",
              "      }\n",
              "      quickchartButtonEl.classList.remove('colab-df-spinner');\n",
              "      quickchartButtonEl.classList.add('colab-df-quickchart-complete');\n",
              "    }\n",
              "    (() => {\n",
              "      let quickchartButtonEl =\n",
              "        document.querySelector('#df-58d62ccb-fdad-43b4-9599-1b4cffe89aec button');\n",
              "      quickchartButtonEl.style.display =\n",
              "        google.colab.kernel.accessAllowed ? 'block' : 'none';\n",
              "    })();\n",
              "  </script>\n",
              "</div>\n",
              "    </div>\n",
              "  </div>\n"
            ]
          },
          "metadata": {},
          "execution_count": 31
        }
      ]
    },
    {
      "cell_type": "code",
      "source": [
        "sentences = combined_list"
      ],
      "metadata": {
        "id": "g2ZwWE19AIhL"
      },
      "execution_count": 32,
      "outputs": []
    },
    {
      "cell_type": "code",
      "source": [
        "# Initialize Word2Vec model with custom initialization\n",
        "vector_size = 100  # Adjust as needed\n",
        "window = 5\n",
        "min_count = 1\n",
        "sg = 0\n",
        "\n",
        "# Initialize an empty Word2Vec model\n",
        "model = Word2Vec(vector_size=vector_size, window=window, min_count=min_count, sg=sg)\n",
        "\n",
        "# Set the weights for each word based on their TF-IDF values\n",
        "word_weights = {word: tfidf_matrix[0, tfidf_vectorizer.vocabulary_[word]] for word in tfidf_vectorizer.vocabulary_}\n",
        "word_weights = {word: weight / sum(word_weights.values()) for word, weight in word_weights.items()}  # Normalize weights\n",
        "\n",
        "# Initialize Word2Vec vectors using TF-IDF weights\n",
        "model.build_vocab(sentences)  # Build the vocabulary\n",
        "\n",
        "# Set initial vectors based on TF-IDF weights\n",
        "for word in model.wv.index_to_key:\n",
        "    if word in word_weights:\n",
        "        model.wv[word] = np.multiply(model.wv[word], word_weights[word])  # Apply TF-IDF weights\n",
        "\n",
        "# Train the Word2Vec model on your dataset\n",
        "model.train(sentences, total_examples=len(sentences), epochs=10)  # Adjust epochs as needed"
      ],
      "metadata": {
        "id": "PSe9TBSV_V_S",
        "colab": {
          "base_uri": "https://localhost:8080/"
        },
        "outputId": "68414718-6a40-47e8-b0a1-5aa1abd118c5"
      },
      "execution_count": 33,
      "outputs": [
        {
          "output_type": "stream",
          "name": "stderr",
          "text": [
            "WARNING:gensim.models.word2vec:Each 'sentences' item should be a list of words (usually unicode strings). First item here is instead plain <class 'str'>.\n"
          ]
        },
        {
          "output_type": "execute_result",
          "data": {
            "text/plain": [
              "(5935785, 34142160)"
            ]
          },
          "metadata": {},
          "execution_count": 33
        }
      ]
    },
    {
      "cell_type": "code",
      "source": [
        "# Preprocess the test documents\n",
        "test_documents = combined_list1\n",
        "\n",
        "# np.array(test_documents, dtype=object)\n",
        "\n",
        "# Calculate the average Word2Vec vectors for each test document\n",
        "test_document_vectors = []\n",
        "for doc_tokens in test_documents:\n",
        "    doc_vector = np.mean([model.wv[word] for word in doc_tokens if word in model.wv], axis=0)\n",
        "    test_document_vectors.append(doc_vector)"
      ],
      "metadata": {
        "colab": {
          "base_uri": "https://localhost:8080/"
        },
        "id": "I4BpFVDRBTsq",
        "outputId": "6a2236c5-a2df-442e-bbc7-5203f265e24a"
      },
      "execution_count": 34,
      "outputs": [
        {
          "output_type": "stream",
          "name": "stderr",
          "text": [
            "/usr/local/lib/python3.10/dist-packages/numpy/core/fromnumeric.py:3432: RuntimeWarning: Mean of empty slice.\n",
            "  return _methods._mean(a, axis=axis, dtype=dtype,\n",
            "/usr/local/lib/python3.10/dist-packages/numpy/core/_methods.py:190: RuntimeWarning: invalid value encountered in double_scalars\n",
            "  ret = ret.dtype.type(ret / rcount)\n"
          ]
        }
      ]
    },
    {
      "cell_type": "code",
      "source": [
        "print(type(test_document_vectors[514]), len(test_document_vectors))"
      ],
      "metadata": {
        "colab": {
          "base_uri": "https://localhost:8080/"
        },
        "id": "gLTFJMUiFHw4",
        "outputId": "55fd46a3-ba5b-4a61-c59c-1638a6a346ea"
      },
      "execution_count": 35,
      "outputs": [
        {
          "output_type": "stream",
          "name": "stdout",
          "text": [
            "<class 'numpy.ndarray'> 9230\n"
          ]
        }
      ]
    },
    {
      "cell_type": "code",
      "source": [
        "filtered_list = [arr for arr in test_document_vectors if arr.shape]\n",
        "# filtered_list"
      ],
      "metadata": {
        "id": "W3x3-AIdfqZY"
      },
      "execution_count": 36,
      "outputs": []
    },
    {
      "cell_type": "code",
      "source": [
        "from tqdm import tqdm\n",
        "import sys\n",
        "# Calculate cosine similarity between each pair of test documents\n",
        "document_similarities = cosine_similarity(filtered_list)\n",
        "\n",
        "# Get the number of test documents\n",
        "num_test_documents = len(filtered_list)\n",
        "\n",
        "\n",
        "# Create a progress bar with a minimum update interval of 1 second\n",
        "progress_bar = tqdm(total=(num_test_documents * (num_test_documents - 1)) // 2, mininterval=1)\n",
        "\n",
        "similarity_score_value = []\n",
        "# Calculate and store the document similarities\n",
        "for i in range(num_test_documents):\n",
        "    for j in range(i + 1, num_test_documents):\n",
        "        similarity_score = document_similarities[i][j]\n",
        "        similarity_score_value.append(f\"Similarity between document {i+1} and document {j+1}: {similarity_score}\")\n",
        "        # Update the progress bar in one line\n",
        "        progress_bar.update(1)\n",
        "        # Write the progress to the terminal without a newline\n",
        "\n",
        "# Clear the console output\n",
        "tqdm.write(\"Progress completed. Results are ready.\")\n",
        "progress_bar.close()\n",
        "sys.stdout.flush()  # Flush the stdout to ensure the console is cleared"
      ],
      "metadata": {
        "colab": {
          "base_uri": "https://localhost:8080/"
        },
        "id": "9DRwRSoSEUD1",
        "outputId": "d4a69f30-9ce9-4d7b-93e2-feb800267449"
      },
      "execution_count": 37,
      "outputs": [
        {
          "output_type": "stream",
          "name": "stderr",
          "text": [
            "100%|██████████| 42315400/42315400 [02:09<00:00, 327568.65it/s]"
          ]
        },
        {
          "output_type": "stream",
          "name": "stdout",
          "text": [
            "Progress completed. Results are ready.\n"
          ]
        },
        {
          "output_type": "stream",
          "name": "stderr",
          "text": [
            "\n"
          ]
        }
      ]
    },
    {
      "cell_type": "code",
      "source": [
        "similarity_score_value[0:5]"
      ],
      "metadata": {
        "id": "CP60_lIxpz3L",
        "colab": {
          "base_uri": "https://localhost:8080/"
        },
        "outputId": "c34bbd66-6a97-429f-8591-0260a71883b3"
      },
      "execution_count": 38,
      "outputs": [
        {
          "output_type": "execute_result",
          "data": {
            "text/plain": [
              "['Similarity between document 1 and document 2: 0.9935030937194824',\n",
              " 'Similarity between document 1 and document 3: 0.9950851798057556',\n",
              " 'Similarity between document 1 and document 4: 0.993549644947052',\n",
              " 'Similarity between document 1 and document 5: 0.978710949420929',\n",
              " 'Similarity between document 1 and document 6: 0.9935973286628723']"
            ]
          },
          "metadata": {},
          "execution_count": 38
        }
      ]
    }
  ],
  "metadata": {
    "colab": {
      "provenance": [],
      "include_colab_link": true
    },
    "kernelspec": {
      "display_name": "Python 3",
      "name": "python3"
    },
    "language_info": {
      "name": "python"
    }
  },
  "nbformat": 4,
  "nbformat_minor": 0
}